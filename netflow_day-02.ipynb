{
 "cells": [
  {
   "cell_type": "code",
   "execution_count": 1,
   "metadata": {},
   "outputs": [],
   "source": [
    "import h5py\n",
    "import numpy as np\n",
    "import pandas as pd\n",
    "import sys"
   ]
  },
  {
   "cell_type": "code",
   "execution_count": 5,
   "metadata": {},
   "outputs": [],
   "source": [
    "data_100 = pd.read_csv(\"netflow_day-02\", nrows=100)"
   ]
  },
  {
   "cell_type": "code",
   "execution_count": 6,
   "metadata": {},
   "outputs": [],
   "source": [
    "df = pd.DataFrame(data=data_100)"
   ]
  },
  {
   "cell_type": "code",
   "execution_count": 8,
   "metadata": {},
   "outputs": [
    {
     "data": {
      "text/plain": [
       "(100, 11)"
      ]
     },
     "execution_count": 8,
     "metadata": {},
     "output_type": "execute_result"
    }
   ],
   "source": [
    "df.shape"
   ]
  },
  {
   "cell_type": "code",
   "execution_count": 9,
   "metadata": {},
   "outputs": [
    {
     "data": {
      "text/html": [
       "<div>\n",
       "<style scoped>\n",
       "    .dataframe tbody tr th:only-of-type {\n",
       "        vertical-align: middle;\n",
       "    }\n",
       "\n",
       "    .dataframe tbody tr th {\n",
       "        vertical-align: top;\n",
       "    }\n",
       "\n",
       "    .dataframe thead th {\n",
       "        text-align: right;\n",
       "    }\n",
       "</style>\n",
       "<table border=\"1\" class=\"dataframe\">\n",
       "  <thead>\n",
       "    <tr style=\"text-align: right;\">\n",
       "      <th></th>\n",
       "      <th>118781</th>\n",
       "      <th>5580</th>\n",
       "      <th>Comp364445</th>\n",
       "      <th>Comp547245</th>\n",
       "      <th>17</th>\n",
       "      <th>Port05507</th>\n",
       "      <th>Port46272</th>\n",
       "      <th>0</th>\n",
       "      <th>755065</th>\n",
       "      <th>0.1</th>\n",
       "      <th>1042329018</th>\n",
       "    </tr>\n",
       "  </thead>\n",
       "  <tbody>\n",
       "    <tr>\n",
       "      <th>0</th>\n",
       "      <td>118783</td>\n",
       "      <td>6976</td>\n",
       "      <td>Comp450942</td>\n",
       "      <td>Comp829338</td>\n",
       "      <td>6</td>\n",
       "      <td>Port03137</td>\n",
       "      <td>445</td>\n",
       "      <td>1665</td>\n",
       "      <td>1108</td>\n",
       "      <td>300810</td>\n",
       "      <td>250408</td>\n",
       "    </tr>\n",
       "    <tr>\n",
       "      <th>1</th>\n",
       "      <td>118785</td>\n",
       "      <td>14178</td>\n",
       "      <td>IP564116</td>\n",
       "      <td>Comp141988</td>\n",
       "      <td>17</td>\n",
       "      <td>5060</td>\n",
       "      <td>5060</td>\n",
       "      <td>1866</td>\n",
       "      <td>0</td>\n",
       "      <td>1477041</td>\n",
       "      <td>0</td>\n",
       "    </tr>\n",
       "    <tr>\n",
       "      <th>2</th>\n",
       "      <td>118785</td>\n",
       "      <td>28147</td>\n",
       "      <td>IP564116</td>\n",
       "      <td>Comp141988</td>\n",
       "      <td>17</td>\n",
       "      <td>5060</td>\n",
       "      <td>5060</td>\n",
       "      <td>3326</td>\n",
       "      <td>0</td>\n",
       "      <td>2656305</td>\n",
       "      <td>0</td>\n",
       "    </tr>\n",
       "    <tr>\n",
       "      <th>3</th>\n",
       "      <td>118785</td>\n",
       "      <td>48507</td>\n",
       "      <td>IP564116</td>\n",
       "      <td>Comp141988</td>\n",
       "      <td>17</td>\n",
       "      <td>5060</td>\n",
       "      <td>5060</td>\n",
       "      <td>5423</td>\n",
       "      <td>0</td>\n",
       "      <td>4388449</td>\n",
       "      <td>0</td>\n",
       "    </tr>\n",
       "    <tr>\n",
       "      <th>4</th>\n",
       "      <td>118785</td>\n",
       "      <td>63173</td>\n",
       "      <td>IP564116</td>\n",
       "      <td>Comp141988</td>\n",
       "      <td>17</td>\n",
       "      <td>5060</td>\n",
       "      <td>5060</td>\n",
       "      <td>7061</td>\n",
       "      <td>0</td>\n",
       "      <td>5745536</td>\n",
       "      <td>0</td>\n",
       "    </tr>\n",
       "  </tbody>\n",
       "</table>\n",
       "</div>"
      ],
      "text/plain": [
       "   118781   5580  Comp364445  Comp547245  17  Port05507 Port46272     0  \\\n",
       "0  118783   6976  Comp450942  Comp829338   6  Port03137       445  1665   \n",
       "1  118785  14178    IP564116  Comp141988  17       5060      5060  1866   \n",
       "2  118785  28147    IP564116  Comp141988  17       5060      5060  3326   \n",
       "3  118785  48507    IP564116  Comp141988  17       5060      5060  5423   \n",
       "4  118785  63173    IP564116  Comp141988  17       5060      5060  7061   \n",
       "\n",
       "   755065      0.1  1042329018  \n",
       "0    1108   300810      250408  \n",
       "1       0  1477041           0  \n",
       "2       0  2656305           0  \n",
       "3       0  4388449           0  \n",
       "4       0  5745536           0  "
      ]
     },
     "execution_count": 9,
     "metadata": {},
     "output_type": "execute_result"
    }
   ],
   "source": [
    "df.head()"
   ]
  },
  {
   "cell_type": "code",
   "execution_count": null,
   "metadata": {},
   "outputs": [],
   "source": []
  }
 ],
 "metadata": {
  "kernelspec": {
   "display_name": "Python 3",
   "language": "python",
   "name": "python3"
  },
  "language_info": {
   "codemirror_mode": {
    "name": "ipython",
    "version": 3
   },
   "file_extension": ".py",
   "mimetype": "text/x-python",
   "name": "python",
   "nbconvert_exporter": "python",
   "pygments_lexer": "ipython3",
   "version": "3.7.3"
  }
 },
 "nbformat": 4,
 "nbformat_minor": 2
}
