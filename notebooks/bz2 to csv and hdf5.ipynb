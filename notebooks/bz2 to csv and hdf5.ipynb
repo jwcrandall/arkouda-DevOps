{
 "cells": [
  {
   "cell_type": "code",
   "execution_count": 7,
   "metadata": {
    "ExecuteTime": {
     "end_time": "2020-01-06T14:53:01.894252Z",
     "start_time": "2020-01-06T14:53:01.794498Z"
    }
   },
   "outputs": [],
   "source": [
    "import os\n",
    "import pandas as pd\n",
    "from glob import glob\n",
    "import numpy as np\n",
    "import h5py"
   ]
  },
  {
   "cell_type": "code",
   "execution_count": 2,
   "metadata": {
    "ExecuteTime": {
     "end_time": "2020-01-06T14:37:38.239291Z",
     "start_time": "2020-01-06T14:37:38.230470Z"
    }
   },
   "outputs": [
    {
     "data": {
      "text/html": [
       "<style>.container { width:100% !important; }</style>"
      ],
      "text/plain": [
       "<IPython.core.display.HTML object>"
      ]
     },
     "metadata": {},
     "output_type": "display_data"
    }
   ],
   "source": [
    "from IPython.core.display import display, HTML\n",
    "display(HTML(\"<style>.container { width:100% !important; }</style>\"))"
   ]
  },
  {
   "cell_type": "markdown",
   "metadata": {},
   "source": [
    "### Multiple bz2 via glob to csv and hdf5"
   ]
  },
  {
   "cell_type": "code",
   "execution_count": 22,
   "metadata": {
    "ExecuteTime": {
     "end_time": "2020-01-06T15:52:58.805118Z",
     "start_time": "2020-01-06T15:52:57.694487Z"
    }
   },
   "outputs": [],
   "source": [
    "bz2 = '../../../data/bz2'\n",
    "exp=2\n",
    "for file in glob(os.path.join(bz2, 'netflow*.bz2')):\n",
    "    #print (file)\n",
    "    \n",
    "    #reading zip files\n",
    "    nrows = float('1e'+str(exp))\n",
    "    #print(nrows)\n",
    "    \n",
    "    #differnt number of rows\n",
    "    #nrows = int(str('1e'+str(exp)))\n",
    "    df = pd.read_csv(file,nrows= nrows)\n",
    "    exp=exp+1\n",
    "    df.columns=['Time','Duration','SrcDevice','DstDevice','Protocol','SrcPort','DstPort','SrcPackets','DstPackets','SrcBytes','DstBytes']\n",
    "    s = str(file)\n",
    "    s = s[-18:-4]\n",
    "    csv='../../../data/csv/'+s+'.csv'\n",
    "    hdf='../../../data/hdf/'+s+'.h5'\n",
    "\n",
    "    \n",
    "    # adding String Test Data\n",
    "    \n",
    "    \n",
    "    # unlinking old files\n",
    "    try:\n",
    "        os.unlink(csv)\n",
    "    except FileNotFoundError: \n",
    "        print(csv , 'does not exist')\n",
    "    try:\n",
    "        os.unlink(hdf)\n",
    "    except FileNotFoundError: \n",
    "        print(hdf , 'does not exist')\n",
    "        \n",
    "    #print(df.shape)\n",
    "    #print(df.head())\n",
    "    \n",
    "    #df to csv\n",
    "    df.to_csv(csv)\n",
    "    \n",
    "    #df to hdf5\n",
    "    #need to work on handeling df columns as individual hdf5 datasets (at the moment to_hdf to creating a single hdf5 group named SrcPackets, which is not useful)\n",
    "    #df[['SrcPackets']].to_hdf(hdf,key='SrcPackets')\n",
    "    hf = h5py.File(hdf, 'w')\n",
    "    hf.create_dataset('Time', data=df['Time'])\n",
    "    hf.create_dataset('Duration', data=df['Duration'])\n",
    "    #hf.create_dataset('SrcDevice', data=df['SrcDevice'])\n",
    "    #hf.create_dataset('DstDevice', data=df['DstDevice'])\n",
    "    hf.create_dataset('Protocol', data=df['Protocol'])\n",
    "    #hf.create_dataset('SrcPort', data=df['SrcPort'])\n",
    "    #hf.create_dataset('DstPort', data=df['DstPort'])\n",
    "    hf.create_dataset('SrcPackets', data=df['SrcPackets'])\n",
    "    hf.create_dataset('DstPackets', data=df['DstPackets'])\n",
    "    hf.create_dataset('SrcBytes', data=df['SrcBytes'])\n",
    "    hf.create_dataset('DstBytes', data=df['DstBytes'])\n",
    "    hf.close()"
   ]
  },
  {
   "cell_type": "code",
   "execution_count": 13,
   "metadata": {
    "ExecuteTime": {
     "end_time": "2020-01-06T15:40:38.323121Z",
     "start_time": "2020-01-06T15:40:38.319304Z"
    }
   },
   "outputs": [
    {
     "data": {
      "text/plain": [
       "0         1\n",
       "1         5\n",
       "2         1\n",
       "3         1\n",
       "4         1\n",
       "         ..\n",
       "99995    11\n",
       "99996    10\n",
       "99997    11\n",
       "99998    10\n",
       "99999     4\n",
       "Name: SrcPackets, Length: 100000, dtype: int64"
      ]
     },
     "execution_count": 13,
     "metadata": {},
     "output_type": "execute_result"
    }
   ],
   "source": [
    "df['SrcPackets']"
   ]
  },
  {
   "cell_type": "markdown",
   "metadata": {},
   "source": [
    "### reading and writing HDF5 files in Python"
   ]
  },
  {
   "cell_type": "code",
   "execution_count": 8,
   "metadata": {
    "ExecuteTime": {
     "end_time": "2020-01-06T14:53:54.159424Z",
     "start_time": "2020-01-06T14:53:54.154132Z"
    }
   },
   "outputs": [
    {
     "name": "stdout",
     "output_type": "stream",
     "text": [
      "(1000, 20) (1000, 200)\n"
     ]
    }
   ],
   "source": [
    "d1 = np.random.random(size = (1000,20))\n",
    "d2 = np.random.random(size = (1000,200))\n",
    "print(d1.shape, d2.shape)"
   ]
  },
  {
   "cell_type": "code",
   "execution_count": 9,
   "metadata": {
    "ExecuteTime": {
     "end_time": "2020-01-06T15:24:10.738545Z",
     "start_time": "2020-01-06T15:24:10.735173Z"
    }
   },
   "outputs": [],
   "source": [
    "hf = h5py.File('data.h5', 'w')"
   ]
  },
  {
   "cell_type": "code",
   "execution_count": 10,
   "metadata": {
    "ExecuteTime": {
     "end_time": "2020-01-06T15:26:37.945149Z",
     "start_time": "2020-01-06T15:26:37.940111Z"
    }
   },
   "outputs": [
    {
     "data": {
      "text/plain": [
       "<HDF5 dataset \"dataset_2\": shape (1000, 200), type \"<f8\">"
      ]
     },
     "execution_count": 10,
     "metadata": {},
     "output_type": "execute_result"
    }
   ],
   "source": [
    "hf.create_dataset('dataset_1', data=d1)\n",
    "hf.create_dataset('dataset_2', data=d2)"
   ]
  },
  {
   "cell_type": "code",
   "execution_count": 11,
   "metadata": {
    "ExecuteTime": {
     "end_time": "2020-01-06T15:29:28.419202Z",
     "start_time": "2020-01-06T15:29:28.416199Z"
    }
   },
   "outputs": [],
   "source": [
    "hf.close()"
   ]
  },
  {
   "cell_type": "code",
   "execution_count": null,
   "metadata": {},
   "outputs": [],
   "source": []
  }
 ],
 "metadata": {
  "kernelspec": {
   "display_name": "Python 3",
   "language": "python",
   "name": "python3"
  },
  "language_info": {
   "codemirror_mode": {
    "name": "ipython",
    "version": 3
   },
   "file_extension": ".py",
   "mimetype": "text/x-python",
   "name": "python",
   "nbconvert_exporter": "python",
   "pygments_lexer": "ipython3",
   "version": "3.7.4"
  }
 },
 "nbformat": 4,
 "nbformat_minor": 2
}
