{
 "cells": [
  {
   "cell_type": "code",
   "execution_count": 1,
   "metadata": {
    "ExecuteTime": {
     "end_time": "2020-01-14T16:59:54.879848Z",
     "start_time": "2020-01-14T16:59:54.448750Z"
    }
   },
   "outputs": [],
   "source": [
    "import os\n",
    "import pandas as pd\n",
    "from glob import glob\n",
    "import numpy as np\n",
    "import h5py"
   ]
  },
  {
   "cell_type": "code",
   "execution_count": 2,
   "metadata": {
    "ExecuteTime": {
     "end_time": "2020-01-14T16:59:55.853370Z",
     "start_time": "2020-01-14T16:59:55.846197Z"
    }
   },
   "outputs": [
    {
     "data": {
      "text/html": [
       "<style>.container { width:100% !important; }</style>"
      ],
      "text/plain": [
       "<IPython.core.display.HTML object>"
      ]
     },
     "metadata": {},
     "output_type": "display_data"
    }
   ],
   "source": [
    "from IPython.core.display import display, HTML\n",
    "display(HTML(\"<style>.container { width:100% !important; }</style>\"))"
   ]
  },
  {
   "cell_type": "markdown",
   "metadata": {},
   "source": [
    "### Multiple bz2 via glob to csv and hdf5"
   ]
  },
  {
   "cell_type": "code",
   "execution_count": 5,
   "metadata": {
    "ExecuteTime": {
     "end_time": "2020-01-14T17:00:37.405153Z",
     "start_time": "2020-01-14T17:00:36.274583Z"
    }
   },
   "outputs": [
    {
     "name": "stdout",
     "output_type": "stream",
     "text": [
      "(100, 11)\n",
      "     Time  Duration   SrcDevice   DstDevice  Protocol    SrcPort DstPort  \\\n",
      "0  118783      6976  Comp450942  Comp829338         6  Port03137     445   \n",
      "1  118785     14178    IP564116  Comp141988        17       5060    5060   \n",
      "2  118785     28147    IP564116  Comp141988        17       5060    5060   \n",
      "3  118785     48507    IP564116  Comp141988        17       5060    5060   \n",
      "4  118785     63173    IP564116  Comp141988        17       5060    5060   \n",
      "\n",
      "   SrcPackets  DstPackets  SrcBytes  DstBytes  \n",
      "0        1665        1108    300810    250408  \n",
      "1        1866           0   1477041         0  \n",
      "2        3326           0   2656305         0  \n",
      "3        5423           0   4388449         0  \n",
      "4        7061           0   5745536         0  \n",
      "(1000, 11)\n",
      "     Time  Duration   SrcDevice   DstDevice  Protocol    SrcPort    DstPort  \\\n",
      "0  172800         0  Comp817584  Comp275646        17  Port97545         53   \n",
      "1  172800         0  Comp654013  Comp685925         6  Port26890  Port94857   \n",
      "2  172800         0  Comp500631  Comp275646        17  Port62938         53   \n",
      "3  172800         0  Comp500631  Comp275646        17  Port52912         53   \n",
      "4  172800         0  Comp348022  Comp416139         6  Port30357  Port99055   \n",
      "\n",
      "   SrcPackets  DstPackets  SrcBytes  DstBytes  \n",
      "0           1           0        77         0  \n",
      "1           6           5      1379      1770  \n",
      "2           1           0        64         0  \n",
      "3           1           0        64         0  \n",
      "4           4           2       186        94  \n",
      "(10000, 11)\n",
      "     Time  Duration   SrcDevice   DstDevice  Protocol    SrcPort DstPort  \\\n",
      "0  259200         0  Comp479216  Comp275646        17  Port46266      53   \n",
      "1  259200         0  Comp557540  Comp576843         6  Port77381      80   \n",
      "2  259200         0  Comp868113  Comp576843         6  Port67870      80   \n",
      "3  259200         0  Comp797919  Comp465214        17  Port49568     427   \n",
      "4  259200         0  Comp797919  Comp996203        17  Port49568     427   \n",
      "\n",
      "   SrcPackets  DstPackets  SrcBytes  DstBytes  \n",
      "0           1           0        59         0  \n",
      "1           5           0       400         0  \n",
      "2           5           0       399         0  \n",
      "3           0           1         0       347  \n",
      "4           0           1         0       346  \n",
      "(100000, 11)\n",
      "     Time  Duration   SrcDevice   DstDevice  Protocol    SrcPort DstPort  \\\n",
      "0  345600         0  Comp950882  Comp387111        17  Port51715      53   \n",
      "1  345600         0  Comp158520  Comp576031        17  Port29380     514   \n",
      "2  345600         0  Comp523808  Comp343771        17  Port62088      53   \n",
      "3  345600         0  Comp523808  Comp705605        17  Port62088      53   \n",
      "4  345600         0  Comp523808  Comp225307        17  Port62088      53   \n",
      "\n",
      "   SrcPackets  DstPackets  SrcBytes  DstBytes  \n",
      "0           1           0        64         0  \n",
      "1           5           0      3272         0  \n",
      "2           1           1        59        59  \n",
      "3           1           1        59        59  \n",
      "4           1           1        59        59  \n"
     ]
    }
   ],
   "source": [
    "bz2 = '../../../data/bz2'\n",
    "exp=2\n",
    "for file in glob(os.path.join(bz2, 'netflow*.bz2')):\n",
    "    #print (file)\n",
    "    \n",
    "    #reading zip files\n",
    "    nrows = float('1e'+str(exp))\n",
    "    #print(nrows)\n",
    "    \n",
    "    #differnt number of rows\n",
    "    #nrows = int(str('1e'+str(exp)))\n",
    "    df = pd.read_csv(file,nrows= nrows)\n",
    "    exp=exp+1\n",
    "    df.columns=['Time','Duration','SrcDevice','DstDevice','Protocol','SrcPort','DstPort','SrcPackets','DstPackets','SrcBytes','DstBytes']\n",
    "    s = str(file)\n",
    "    s = s[-18:-4]\n",
    "    csv='../../../data/csv/'+s+'.csv'\n",
    "    hdf='../../../data/hdf/'+s+'.h5'\n",
    "\n",
    "    \n",
    "    # adding String Test Data\n",
    "    \n",
    "    \n",
    "    # unlinking old files\n",
    "    try:\n",
    "        os.unlink(csv)\n",
    "    except FileNotFoundError: \n",
    "        print(csv , 'does not exist')\n",
    "    try:\n",
    "        os.unlink(hdf)\n",
    "    except FileNotFoundError: \n",
    "        print(hdf , 'does not exist')\n",
    "        \n",
    "    print(df.shape)\n",
    "    print(df.head())\n",
    "    \n",
    "    #df to csv\n",
    "    df.to_csv(csv)\n",
    "    \n",
    "    #df to hdf5\n",
    "    #need to work on handeling df columns as individual hdf5 datasets (at the moment to_hdf to creating a single hdf5 group named SrcPackets, which is not useful)\n",
    "    #df[['SrcPackets']].to_hdf(hdf,key='SrcPackets')\n",
    "    hf = h5py.File(hdf, 'w')\n",
    "    hf.create_dataset('Time', data=df['Time'])\n",
    "    hf.create_dataset('Duration', data=df['Duration'])\n",
    "    #hf.create_dataset('SrcDevice', data=df['SrcDevice'])\n",
    "    #hf.create_dataset('DstDevice', data=df['DstDevice'])\n",
    "    hf.create_dataset('Protocol', data=df['Protocol'])\n",
    "    #hf.create_dataset('SrcPort', data=df['SrcPort'])\n",
    "    #hf.create_dataset('DstPort', data=df['DstPort'])\n",
    "    hf.create_dataset('SrcPackets', data=df['SrcPackets'])\n",
    "    hf.create_dataset('DstPackets', data=df['DstPackets'])\n",
    "    hf.create_dataset('SrcBytes', data=df['SrcBytes'])\n",
    "    hf.create_dataset('DstBytes', data=df['DstBytes'])\n",
    "    hf.close()"
   ]
  },
  {
   "cell_type": "code",
   "execution_count": 4,
   "metadata": {
    "ExecuteTime": {
     "end_time": "2020-01-14T17:00:19.246835Z",
     "start_time": "2020-01-14T17:00:19.242481Z"
    }
   },
   "outputs": [
    {
     "data": {
      "text/plain": [
       "0         1\n",
       "1         5\n",
       "2         1\n",
       "3         1\n",
       "4         1\n",
       "         ..\n",
       "99995    11\n",
       "99996    10\n",
       "99997    11\n",
       "99998    10\n",
       "99999     4\n",
       "Name: SrcPackets, Length: 100000, dtype: int64"
      ]
     },
     "execution_count": 4,
     "metadata": {},
     "output_type": "execute_result"
    }
   ],
   "source": [
    "df['SrcPackets']"
   ]
  },
  {
   "cell_type": "markdown",
   "metadata": {},
   "source": [
    "### reading and writing HDF5 files in Python"
   ]
  },
  {
   "cell_type": "code",
   "execution_count": 8,
   "metadata": {
    "ExecuteTime": {
     "end_time": "2020-01-06T14:53:54.159424Z",
     "start_time": "2020-01-06T14:53:54.154132Z"
    }
   },
   "outputs": [
    {
     "name": "stdout",
     "output_type": "stream",
     "text": [
      "(1000, 20) (1000, 200)\n"
     ]
    }
   ],
   "source": [
    "d1 = np.random.random(size = (1000,20))\n",
    "d2 = np.random.random(size = (1000,200))\n",
    "print(d1.shape, d2.shape)"
   ]
  },
  {
   "cell_type": "code",
   "execution_count": 9,
   "metadata": {
    "ExecuteTime": {
     "end_time": "2020-01-06T15:24:10.738545Z",
     "start_time": "2020-01-06T15:24:10.735173Z"
    }
   },
   "outputs": [],
   "source": [
    "hf = h5py.File('data.h5', 'w')"
   ]
  },
  {
   "cell_type": "code",
   "execution_count": 10,
   "metadata": {
    "ExecuteTime": {
     "end_time": "2020-01-06T15:26:37.945149Z",
     "start_time": "2020-01-06T15:26:37.940111Z"
    }
   },
   "outputs": [
    {
     "data": {
      "text/plain": [
       "<HDF5 dataset \"dataset_2\": shape (1000, 200), type \"<f8\">"
      ]
     },
     "execution_count": 10,
     "metadata": {},
     "output_type": "execute_result"
    }
   ],
   "source": [
    "hf.create_dataset('dataset_1', data=d1)\n",
    "hf.create_dataset('dataset_2', data=d2)"
   ]
  },
  {
   "cell_type": "code",
   "execution_count": 11,
   "metadata": {
    "ExecuteTime": {
     "end_time": "2020-01-06T15:29:28.419202Z",
     "start_time": "2020-01-06T15:29:28.416199Z"
    }
   },
   "outputs": [],
   "source": [
    "hf.close()"
   ]
  },
  {
   "cell_type": "code",
   "execution_count": null,
   "metadata": {},
   "outputs": [],
   "source": []
  }
 ],
 "metadata": {
  "kernelspec": {
   "display_name": "Python 3",
   "language": "python",
   "name": "python3"
  },
  "language_info": {
   "codemirror_mode": {
    "name": "ipython",
    "version": 3
   },
   "file_extension": ".py",
   "mimetype": "text/x-python",
   "name": "python",
   "nbconvert_exporter": "python",
   "pygments_lexer": "ipython3",
   "version": "3.7.4"
  }
 },
 "nbformat": 4,
 "nbformat_minor": 2
}
