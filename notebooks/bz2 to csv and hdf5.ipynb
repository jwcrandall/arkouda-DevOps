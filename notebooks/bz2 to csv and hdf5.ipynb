{
 "cells": [
  {
   "cell_type": "code",
   "execution_count": 1,
   "metadata": {
    "ExecuteTime": {
     "end_time": "2020-02-01T21:24:54.334940Z",
     "start_time": "2020-02-01T21:24:53.469732Z"
    }
   },
   "outputs": [],
   "source": [
    "import os\n",
    "import pandas as pd\n",
    "from glob import glob\n",
    "import numpy as np\n",
    "import h5py"
   ]
  },
  {
   "cell_type": "code",
   "execution_count": 2,
   "metadata": {
    "ExecuteTime": {
     "end_time": "2020-02-01T21:24:55.198828Z",
     "start_time": "2020-02-01T21:24:55.190830Z"
    }
   },
   "outputs": [
    {
     "data": {
      "text/html": [
       "<style>.container { width:100% !important; }</style>"
      ],
      "text/plain": [
       "<IPython.core.display.HTML object>"
      ]
     },
     "metadata": {},
     "output_type": "display_data"
    }
   ],
   "source": [
    "from IPython.core.display import display, HTML\n",
    "display(HTML(\"<style>.container { width:100% !important; }</style>\"))"
   ]
  },
  {
   "cell_type": "markdown",
   "metadata": {},
   "source": [
    "### Multiple bz2 via glob to csv and hdf5"
   ]
  },
  {
   "cell_type": "code",
   "execution_count": 3,
   "metadata": {
    "ExecuteTime": {
     "end_time": "2020-02-01T22:58:50.882369Z",
     "start_time": "2020-02-01T21:24:57.417848Z"
    }
   },
   "outputs": [
    {
     "name": "stdout",
     "output_type": "stream",
     "text": [
      "start        int64\n",
      "duration     int64\n",
      "srcIP       object\n",
      "dstIP       object\n",
      "proto        int64\n",
      "srcPort     object\n",
      "dstPort     object\n",
      "srcPkts      int64\n",
      "dstPkts      int64\n",
      "srcBytes     int64\n",
      "dstBytes     int64\n",
      "dtype: object\n",
      "(215789855, 11)\n",
      "    start  duration       srcIP            dstIP  proto    srcPort    dstPort  \\\n",
      "0  604800         0  Comp479216       Comp275646     17  Port38098         53   \n",
      "1  604800         0  Comp130715       Comp576031     17  Port03632        514   \n",
      "2  604800         0  Comp141613       Comp275646     17  Port72359         53   \n",
      "3  604800         0  Comp357280       Comp017024      6  Port61085  Port99055   \n",
      "4  604800         0  Comp509586  ActiveDirectory     17  Port52026        389   \n",
      "\n",
      "   srcPkts  dstPkts  srcBytes  dstBytes  \n",
      "0        1        0        59         0  \n",
      "1       15        0      4393         0  \n",
      "2        1        0        66         0  \n",
      "3        4        2       190        98  \n",
      "4        1        0       209         0  \n",
      "start        int64\n",
      "duration     int64\n",
      "srcIP       object\n",
      "dstIP       object\n",
      "proto        int64\n",
      "srcPort     object\n",
      "dstPort     object\n",
      "srcPkts      int64\n",
      "dstPkts      int64\n",
      "srcBytes     int64\n",
      "dstBytes     int64\n",
      "dtype: object\n",
      "(209041450, 11)\n",
      "    start  duration       srcIP            dstIP  proto    srcPort dstPort  \\\n",
      "0  691200         0  Comp582498       Comp275646     17  Port24351      53   \n",
      "1  691200         0  Comp328974       Comp275646     17  Port66951      53   \n",
      "2  691200         0  Comp328974       Comp275646     17  Port01578      53   \n",
      "3  691200         0  Comp509586  ActiveDirectory      6  Port24334     389   \n",
      "4  691200         0  Comp509586  ActiveDirectory     17  Port84167      53   \n",
      "\n",
      "   srcPkts  dstPkts  srcBytes  dstBytes  \n",
      "0        1        0        59         0  \n",
      "1        1        0        63         0  \n",
      "2        1        0        69         0  \n",
      "3        9        0      2774         0  \n",
      "4        1        0        93         0  \n",
      "start        int64\n",
      "duration     int64\n",
      "srcIP       object\n",
      "dstIP       object\n",
      "proto        int64\n",
      "srcPort     object\n",
      "dstPort     object\n",
      "srcPkts      int64\n",
      "dstPkts      int64\n",
      "srcBytes     int64\n",
      "dstBytes     int64\n",
      "dtype: object\n",
      "(115949435, 11)\n",
      "    start  duration       srcIP       dstIP  proto    srcPort dstPort  \\\n",
      "0  118783      6976  Comp450942  Comp829338      6  Port03137     445   \n",
      "1  118785     14178    IP564116  Comp141988     17       5060    5060   \n",
      "2  118785     28147    IP564116  Comp141988     17       5060    5060   \n",
      "3  118785     48507    IP564116  Comp141988     17       5060    5060   \n",
      "4  118785     63173    IP564116  Comp141988     17       5060    5060   \n",
      "\n",
      "   srcPkts  dstPkts  srcBytes  dstBytes  \n",
      "0     1665     1108    300810    250408  \n",
      "1     1866        0   1477041         0  \n",
      "2     3326        0   2656305         0  \n",
      "3     5423        0   4388449         0  \n",
      "4     7061        0   5745536         0  \n",
      "start        int64\n",
      "duration     int64\n",
      "srcIP       object\n",
      "dstIP       object\n",
      "proto        int64\n",
      "srcPort     object\n",
      "dstPort     object\n",
      "srcPkts      int64\n",
      "dstPkts      int64\n",
      "srcBytes     int64\n",
      "dstBytes     int64\n",
      "dtype: object\n",
      "(201214608, 11)\n",
      "    start  duration       srcIP       dstIP  proto    srcPort    dstPort  \\\n",
      "0  172800         0  Comp817584  Comp275646     17  Port97545         53   \n",
      "1  172800         0  Comp654013  Comp685925      6  Port26890  Port94857   \n",
      "2  172800         0  Comp500631  Comp275646     17  Port62938         53   \n",
      "3  172800         0  Comp500631  Comp275646     17  Port52912         53   \n",
      "4  172800         0  Comp348022  Comp416139      6  Port30357  Port99055   \n",
      "\n",
      "   srcPkts  dstPkts  srcBytes  dstBytes  \n",
      "0        1        0        77         0  \n",
      "1        6        5      1379      1770  \n",
      "2        1        0        64         0  \n",
      "3        1        0        64         0  \n",
      "4        4        2       186        94  \n",
      "start        int64\n",
      "duration     int64\n",
      "srcIP       object\n",
      "dstIP       object\n",
      "proto        int64\n",
      "srcPort     object\n",
      "dstPort     object\n",
      "srcPkts      int64\n",
      "dstPkts      int64\n",
      "srcBytes     int64\n",
      "dstBytes     int64\n",
      "dtype: object\n",
      "(181855507, 11)\n",
      "    start  duration       srcIP            dstIP  proto    srcPort dstPort  \\\n",
      "0  518400         0  Comp774932       Comp275646     17  Port39243      53   \n",
      "1  518400         0  Comp406017       Comp275646     17  Port42912      53   \n",
      "2  518400         0  Comp509586  ActiveDirectory      6  Port41590     389   \n",
      "3  518400         0  Comp509586  ActiveDirectory      6  Port24825      88   \n",
      "4  518400         0  Comp509586  ActiveDirectory      6  Port14850     389   \n",
      "\n",
      "   srcPkts  dstPkts  srcBytes  dstBytes  \n",
      "0        1        0        70         0  \n",
      "1        1        0        63         0  \n",
      "2       11        0      2915         0  \n",
      "3        6        0      1959         0  \n",
      "4       10        0      2826         0  \n",
      "start        int64\n",
      "duration     int64\n",
      "srcIP       object\n",
      "dstIP       object\n",
      "proto        int64\n",
      "srcPort     object\n",
      "dstPort     object\n",
      "srcPkts      int64\n",
      "dstPkts      int64\n",
      "srcBytes     int64\n",
      "dstBytes     int64\n",
      "dtype: object\n",
      "(176434463, 11)\n",
      "    start  duration       srcIP            dstIP  proto    srcPort dstPort  \\\n",
      "0  432000         0  Comp559004       Comp576031     17  Port48656     514   \n",
      "1  432000         0  Comp348022       Comp576031     17  Port13439     514   \n",
      "2  432000         0  Comp309567  ActiveDirectory      6  Port08314      88   \n",
      "3  432000         0  Comp309567  ActiveDirectory      6  Port51526      88   \n",
      "4  432000         0  Comp309567  ActiveDirectory      6  Port74396      88   \n",
      "\n",
      "   srcPkts  dstPkts  srcBytes  dstBytes  \n",
      "0        2        0       448         0  \n",
      "1        2        0      2822         0  \n",
      "2        4        0       414         0  \n",
      "3        5        0       540         0  \n",
      "4        6        0      2531         0  \n",
      "start        int64\n",
      "duration     int64\n",
      "srcIP       object\n",
      "dstIP       object\n",
      "proto        int64\n",
      "srcPort     object\n",
      "dstPort     object\n",
      "srcPkts      int64\n",
      "dstPkts      int64\n",
      "srcBytes     int64\n",
      "dstBytes     int64\n",
      "dtype: object\n",
      "(250455312, 11)\n",
      "    start  duration       srcIP       dstIP  proto    srcPort dstPort  \\\n",
      "0  777600         0  Comp896516  Comp576843      6  Port19572     443   \n",
      "1  777600         0  Comp065145  Comp576843      6  Port03698     443   \n",
      "2  777600         0  Comp142747  Comp275646     17  Port91103      53   \n",
      "3  777600         0  Comp188584  Comp275646     17  Port41284      53   \n",
      "4  777600         0  Comp437716  Comp275646     17  Port39231      53   \n",
      "\n",
      "   srcPkts  dstPkts  srcBytes  dstBytes  \n",
      "0        5        0       748         0  \n",
      "1        5        0       748         0  \n",
      "2        1        0        68         0  \n",
      "3        1        0        81         0  \n",
      "4        1        0        65         0  \n",
      "start        int64\n",
      "duration     int64\n",
      "srcIP       object\n",
      "dstIP       object\n",
      "proto        int64\n",
      "srcPort     object\n",
      "dstPort     object\n",
      "srcPkts      int64\n",
      "dstPkts      int64\n",
      "srcBytes     int64\n",
      "dstBytes     int64\n",
      "dtype: object\n",
      "(222323502, 11)\n",
      "    start  duration       srcIP       dstIP  proto    srcPort dstPort  \\\n",
      "0  259200         0  Comp479216  Comp275646     17  Port46266      53   \n",
      "1  259200         0  Comp557540  Comp576843      6  Port77381      80   \n",
      "2  259200         0  Comp868113  Comp576843      6  Port67870      80   \n",
      "3  259200         0  Comp797919  Comp465214     17  Port49568     427   \n",
      "4  259200         0  Comp797919  Comp996203     17  Port49568     427   \n",
      "\n",
      "   srcPkts  dstPkts  srcBytes  dstBytes  \n",
      "0        1        0        59         0  \n",
      "1        5        0       400         0  \n",
      "2        5        0       399         0  \n",
      "3        0        1         0       347  \n",
      "4        0        1         0       346  \n",
      "start        int64\n",
      "duration     int64\n",
      "srcIP       object\n",
      "dstIP       object\n",
      "proto        int64\n",
      "srcPort     object\n",
      "dstPort     object\n",
      "srcPkts      int64\n",
      "dstPkts      int64\n",
      "srcBytes     int64\n",
      "dstBytes     int64\n",
      "dtype: object\n",
      "(198584819, 11)\n",
      "    start  duration       srcIP       dstIP  proto    srcPort dstPort  \\\n",
      "0  345600         0  Comp950882  Comp387111     17  Port51715      53   \n",
      "1  345600         0  Comp158520  Comp576031     17  Port29380     514   \n",
      "2  345600         0  Comp523808  Comp343771     17  Port62088      53   \n",
      "3  345600         0  Comp523808  Comp705605     17  Port62088      53   \n",
      "4  345600         0  Comp523808  Comp225307     17  Port62088      53   \n",
      "\n",
      "   srcPkts  dstPkts  srcBytes  dstBytes  \n",
      "0        1        0        64         0  \n",
      "1        5        0      3272         0  \n",
      "2        1        1        59        59  \n",
      "3        1        1        59        59  \n",
      "4        1        1        59        59  \n"
     ]
    },
    {
     "name": "stdout",
     "output_type": "stream",
     "text": [
      "start        int64\n",
      "duration     int64\n",
      "srcIP       object\n",
      "dstIP       object\n",
      "proto        int64\n",
      "srcPort     object\n",
      "dstPort     object\n",
      "srcPkts      int64\n",
      "dstPkts      int64\n",
      "srcBytes     int64\n",
      "dstBytes     int64\n",
      "dtype: object\n",
      "(246035502, 11)\n",
      "    start  duration       srcIP       dstIP  proto    srcPort dstPort  \\\n",
      "0  864000         0  Comp819564  Comp275646     17  Port95015      53   \n",
      "1  864000         0  Comp819564  Comp275646     17  Port73108      53   \n",
      "2  864000         0  Comp784124  Comp576843      6  Port89616      80   \n",
      "3  864000         0  Comp207620  Comp275646     17  Port23440      53   \n",
      "4  864000         0  Comp870382  Comp275646     17  Port97481      53   \n",
      "\n",
      "   srcPkts  dstPkts  srcBytes  dstBytes  \n",
      "0        1        0        75         0  \n",
      "1        1        0        69         0  \n",
      "2        5        0       400         0  \n",
      "3        1        0        58         0  \n",
      "4        1        0        66         0  \n"
     ]
    }
   ],
   "source": [
    "bz2 = '../../../data/bz2'\n",
    "exp=5\n",
    "for file in glob(os.path.join(bz2, 'netflow*.bz2')):\n",
    "    #print (file)\n",
    "    \n",
    "    #reading zip files\n",
    "    nrows = float('1e'+str(exp))\n",
    "    #print(nrows)\n",
    "    \n",
    "    #differnt number of rows\n",
    "    #nrows = int(str('1e'+str(exp)))\n",
    "    #df = pd.read_csv(file,nrows= nrows)\n",
    "    df = pd.read_csv(file)\n",
    "    #exp=exp+1\n",
    "    #df.columns=['Time','Duration','SrcDevice','DstDevice','Protocol','SrcPort','DstPort','SrcPackets','DstPackets','SrcBytes','DstBytes']\n",
    "    df.columns=['start','duration','srcIP','dstIP','proto','srcPort','dstPort','srcPkts','dstPkts','srcBytes','dstBytes']\n",
    "    s = str(file)\n",
    "    s = s[-18:-4]\n",
    "    \n",
    "    print(df.dtypes)\n",
    "    \n",
    "    # location of new files\n",
    "    csv='../../../data/csv/'+s+'.csv'\n",
    "    #hdf='../../../data/hdf/'+s+'.h5'\n",
    "    hdf='../../../bigdata/hdf/'+s+'.h5'\n",
    "    \n",
    "    # unlinking old files\n",
    "    try:\n",
    "        os.unlink(csv)\n",
    "    except FileNotFoundError: \n",
    "        print(csv , 'does not exist')\n",
    "    try:\n",
    "        os.unlink(hdf)\n",
    "    except FileNotFoundError: \n",
    "        print(hdf , 'does not exist')\n",
    "        \n",
    "    print(df.shape)\n",
    "    print(df.head())\n",
    "    \n",
    "    #df to csv, need to specify datatypes\n",
    "    #df.to_csv(csv)\n",
    "    \n",
    "    #df to hdf5\n",
    "    #need to work on handeling df columns as individual hdf5 datasets (at the moment to_hdf to creating a single hdf5 group named SrcPackets, which is not useful)\n",
    "    #df[['SrcPackets']].to_hdf(hdf,key='SrcPackets')\n",
    "    hf = h5py.File(hdf, 'w')\n",
    "    hf.create_dataset('start', data=df['start'].astype(np.int32))\n",
    "    hf.create_dataset('duration', data=df['duration'])\n",
    "    #hf.create_dataset('srcIP', data=df['srcIP'].astype('|S8')) #object to string\n",
    "    #hf.create_dataset('dstIP', data=df['dstIP'].astype('|S8')) #object to string\n",
    "    hf.create_dataset('proto', data=df['proto'])\n",
    "    #hf.create_dataset('srcPort', data=df['srcPort'].astype('|S8')) #object to string\n",
    "    #hf.create_dataset('dstPort', data=df['dstPort'].astype('|S8')) #object to string\n",
    "    hf.create_dataset('srcPkts', data=df['srcPkts'])\n",
    "    hf.create_dataset('dstPkts', data=df['dstPkts'])\n",
    "    hf.create_dataset('srcBytes', data=df['srcBytes'])\n",
    "    hf.create_dataset('dstBytes', data=df['dstBytes'])\n",
    "    hf.close()"
   ]
  },
  {
   "cell_type": "code",
   "execution_count": null,
   "metadata": {
    "ExecuteTime": {
     "end_time": "2020-01-22T16:37:54.727783Z",
     "start_time": "2020-01-22T16:37:54.686021Z"
    }
   },
   "outputs": [],
   "source": [
    "df['SrcPackets']"
   ]
  },
  {
   "cell_type": "markdown",
   "metadata": {},
   "source": [
    "### reading and writing HDF5 files in Python"
   ]
  },
  {
   "cell_type": "code",
   "execution_count": null,
   "metadata": {
    "ExecuteTime": {
     "end_time": "2020-01-22T16:37:54.746957Z",
     "start_time": "2020-01-22T16:37:54.729945Z"
    }
   },
   "outputs": [],
   "source": [
    "d1 = np.random.random(size = (1000,20))\n",
    "d2 = np.random.random(size = (1000,200))\n",
    "print(d1.shape, d2.shape)"
   ]
  },
  {
   "cell_type": "code",
   "execution_count": null,
   "metadata": {
    "ExecuteTime": {
     "end_time": "2020-01-22T16:37:54.756726Z",
     "start_time": "2020-01-22T16:37:54.748357Z"
    }
   },
   "outputs": [],
   "source": [
    "hf = h5py.File('data.h5', 'w')"
   ]
  },
  {
   "cell_type": "code",
   "execution_count": null,
   "metadata": {
    "ExecuteTime": {
     "end_time": "2020-01-22T16:37:54.767642Z",
     "start_time": "2020-01-22T16:37:54.758336Z"
    }
   },
   "outputs": [],
   "source": [
    "hf.create_dataset('dataset_1', data=d1)\n",
    "hf.create_dataset('dataset_2', data=d2)"
   ]
  },
  {
   "cell_type": "code",
   "execution_count": null,
   "metadata": {
    "ExecuteTime": {
     "end_time": "2020-01-22T16:37:54.773574Z",
     "start_time": "2020-01-22T16:37:54.770584Z"
    }
   },
   "outputs": [],
   "source": [
    "hf.close()"
   ]
  },
  {
   "cell_type": "code",
   "execution_count": null,
   "metadata": {},
   "outputs": [],
   "source": []
  }
 ],
 "metadata": {
  "kernelspec": {
   "display_name": "Python 3",
   "language": "python",
   "name": "python3"
  },
  "language_info": {
   "codemirror_mode": {
    "name": "ipython",
    "version": 3
   },
   "file_extension": ".py",
   "mimetype": "text/x-python",
   "name": "python",
   "nbconvert_exporter": "python",
   "pygments_lexer": "ipython3",
   "version": "3.7.4"
  }
 },
 "nbformat": 4,
 "nbformat_minor": 2
}
