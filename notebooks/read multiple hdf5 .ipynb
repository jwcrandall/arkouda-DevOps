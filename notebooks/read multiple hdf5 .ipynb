{
 "cells": [
  {
   "cell_type": "code",
   "execution_count": null,
   "metadata": {
    "ExecuteTime": {
     "start_time": "2019-12-16T22:20:01.229Z"
    }
   },
   "outputs": [],
   "source": [
    "import h5py\n",
    "import tables\n",
    "import numpy as np\n",
    "import pandas as pd\n",
    "import sys\n",
    "import os\n",
    "import bz2\n",
    "import csv\n",
    "import math\n",
    "import arkouda as ak\n",
    "import timeit\n",
    "from glob import glob\n",
    "from decimal import Decimal\n",
    "from functools import partial\n",
    "from pathlib import Path"
   ]
  },
  {
   "cell_type": "code",
   "execution_count": null,
   "metadata": {
    "ExecuteTime": {
     "end_time": "2019-12-16T21:56:17.466389Z",
     "start_time": "2019-12-16T21:56:17.460356Z"
    }
   },
   "outputs": [],
   "source": [
    "ak.connect(server='localhost',port='5555')"
   ]
  },
  {
   "cell_type": "code",
   "execution_count": null,
   "metadata": {
    "ExecuteTime": {
     "start_time": "2019-12-16T22:20:50.713Z"
    }
   },
   "outputs": [],
   "source": [
    "ak.shutdown()"
   ]
  },
  {
   "cell_type": "markdown",
   "metadata": {},
   "source": [
    "### Multiple bz2 via glob to csv and hdf5 "
   ]
  },
  {
   "cell_type": "code",
   "execution_count": null,
   "metadata": {
    "ExecuteTime": {
     "end_time": "2019-12-16T21:54:44.520712Z",
     "start_time": "2019-12-16T21:53:03.510562Z"
    }
   },
   "outputs": [],
   "source": [
    "bz2 = '../../../data/bz2'\n",
    "exp=4\n",
    "for file in glob(os.path.join(bz2, 'netflow*.bz2')):\n",
    "    #print (file)\n",
    "    \n",
    "    #reading zip files\n",
    "    nrows = float('1e'+str(exp))\n",
    "    #print(nrows)\n",
    "    \n",
    "    #differnt number of rows\n",
    "    #nrows = int(str('1e'+str(exp)))\n",
    "    df = pd.read_csv(file,nrows= nrows)\n",
    "    exp=exp+1\n",
    "    df.columns=['Time','Duration','SrcDevice','DstDevice','Protocol','SrcPort','DstPort','SrcPackets','DstPackets','SrcBytes','DstBytes']\n",
    "    s = str(file)\n",
    "    s = s[-18:-4]\n",
    "    csv='../../../data/csv/'+s+'.csv'\n",
    "    hdf='../../../data/hdf/SrcPackets-'+s+'.h5'\n",
    "\n",
    "    # unlinking old files\n",
    "    try:\n",
    "        os.unlink(csv)\n",
    "    except FileNotFoundError: \n",
    "        print(csv , 'does not exist')\n",
    "    try:\n",
    "        os.unlink(hdf)\n",
    "    except FileNotFoundError: \n",
    "        print(hdf , 'does not exist')\n",
    "    \n",
    "    #append to new file\n",
    "    df.to_csv(csv)\n",
    "    df[['SrcPackets']].to_hdf(hdf,key='SrcPackets')\n",
    "    #df[['SrcPort']].to_hdf('../../data/hdf/SrcPort-netflow_day-05.h5',key='df', mode='w')"
   ]
  },
  {
   "cell_type": "markdown",
   "metadata": {},
   "source": [
    "### arkouda"
   ]
  },
  {
   "cell_type": "code",
   "execution_count": null,
   "metadata": {
    "ExecuteTime": {
     "end_time": "2019-12-16T21:55:03.621129Z",
     "start_time": "2019-12-16T21:55:03.609403Z"
    }
   },
   "outputs": [],
   "source": [
    "a=[3,5,7]\n",
    "b=ak.array(a)\n",
    "b"
   ]
  },
  {
   "cell_type": "code",
   "execution_count": null,
   "metadata": {
    "ExecuteTime": {
     "end_time": "2019-12-09T16:54:05.182364Z",
     "start_time": "2019-12-09T16:54:05.156188Z"
    }
   },
   "outputs": [],
   "source": [
    "ak.read_hdf('SrcPackets',glob('../../../data/hdf/*netflow*5.h5'))"
   ]
  },
  {
   "cell_type": "markdown",
   "metadata": {},
   "source": [
    "### Experimental Bellow"
   ]
  },
  {
   "cell_type": "code",
   "execution_count": null,
   "metadata": {
    "ExecuteTime": {
     "end_time": "2019-12-09T16:50:07.201300Z",
     "start_time": "2019-12-09T16:50:07.183379Z"
    }
   },
   "outputs": [],
   "source": [
    "import h5py\n",
    "h5py.run_tests()"
   ]
  },
  {
   "cell_type": "code",
   "execution_count": null,
   "metadata": {
    "ExecuteTime": {
     "end_time": "2019-12-03T03:17:05.877573Z",
     "start_time": "2019-12-03T03:17:05.870411Z"
    }
   },
   "outputs": [],
   "source": [
    "#bz2.open('../../data/bz2/netflow_day-05.bz2','r')"
   ]
  },
  {
   "cell_type": "code",
   "execution_count": null,
   "metadata": {
    "ExecuteTime": {
     "end_time": "2019-12-09T13:29:31.730648Z",
     "start_time": "2019-12-09T13:29:31.483465Z"
    }
   },
   "outputs": [],
   "source": [
    "df = pd.read_csv('../../data/csv/netflow_day-02.csv')\n",
    "#df.columns=['Time','Duration','SrcDevice','DstDevice','Protocol','SrcPort','DstPort','SrcPackets','DstPackets','SrcBytes','DstBytes']\n",
    "#df.to_csv(\"../../data/csv/netflow_day-05.csv\")\n",
    "print(df.shape)\n",
    "df.head()"
   ]
  },
  {
   "cell_type": "code",
   "execution_count": null,
   "metadata": {
    "ExecuteTime": {
     "end_time": "2019-12-09T12:46:42.055751Z",
     "start_time": "2019-12-09T12:46:42.051734Z"
    }
   },
   "outputs": [],
   "source": [
    "millnames = ['',' Thousand',' Million', ' Billion', ' Trillion', ' Quadrillion']\n",
    "def millify(n):\n",
    "    n=float(n)\n",
    "    millidx=max(0,min(len(millnames)-1,\n",
    "                     int(math.floor(0 if n == 0 else math.log10(abs(n))/3))))\n",
    "    return '{:.0f}{}'.format(n/10**(3*millidx), millnames[millidx])"
   ]
  },
  {
   "cell_type": "code",
   "execution_count": null,
   "metadata": {
    "ExecuteTime": {
     "end_time": "2019-12-09T12:47:09.306229Z",
     "start_time": "2019-12-09T12:47:09.303706Z"
    }
   },
   "outputs": [],
   "source": [
    "print(millify(1e17))"
   ]
  },
  {
   "cell_type": "code",
   "execution_count": null,
   "metadata": {
    "ExecuteTime": {
     "end_time": "2019-12-02T16:10:11.113593Z",
     "start_time": "2019-12-02T16:10:11.108852Z"
    }
   },
   "outputs": [],
   "source": [
    "#df = pd.DataFrame(data.values,columns=['Time','Duration','SrcDevice','DstDevice','Protocol','SrcPort','DstPort','SrcPackets','DstPackets','SrcBytes','DstBytes'])\n",
    "#df = pd.DataFrame(data.values, columns = [list(range(11))])\n",
    "rows, columns = df.shape\n",
    "#rows = '%.2E' % Decimal(rows)\n",
    "print(str(millify(rows))+', '+ str(columns))"
   ]
  },
  {
   "cell_type": "code",
   "execution_count": null,
   "metadata": {
    "ExecuteTime": {
     "end_time": "2019-12-03T00:53:02.470387Z",
     "start_time": "2019-12-03T00:52:59.899619Z"
    }
   },
   "outputs": [],
   "source": [
    "df[['SrcPort','DstPort']].head()"
   ]
  },
  {
   "cell_type": "code",
   "execution_count": null,
   "metadata": {
    "ExecuteTime": {
     "end_time": "2019-12-03T01:01:38.370498Z",
     "start_time": "2019-12-03T01:01:38.325737Z"
    }
   },
   "outputs": [],
   "source": [
    "df[['SrcPort','DstPort']].to_hdf('../../data/hdf/SrcPort-netflow_day-05.h5',key='df', mode='w')"
   ]
  },
  {
   "cell_type": "code",
   "execution_count": null,
   "metadata": {
    "ExecuteTime": {
     "end_time": "2019-12-03T01:01:49.686335Z",
     "start_time": "2019-12-03T01:01:49.656506Z"
    }
   },
   "outputs": [],
   "source": [
    "#Series Dataframe\n",
    "df_Src=pd.read_hdf('../../data/hdf/SrcPort-netflow_day-05.h5', 'df')\n",
    "print(df_Src.shape)\n",
    "df_Src.head(5)\n",
    "#print(str(millify(df_Src.shape[0]))+', '+ str(df_Src.shape[1]))"
   ]
  },
  {
   "cell_type": "code",
   "execution_count": null,
   "metadata": {
    "ExecuteTime": {
     "end_time": "2019-12-03T01:01:57.522276Z",
     "start_time": "2019-12-03T01:01:57.519613Z"
    }
   },
   "outputs": [],
   "source": []
  },
  {
   "cell_type": "code",
   "execution_count": null,
   "metadata": {
    "ExecuteTime": {
     "end_time": "2019-12-03T02:14:47.013089Z",
     "start_time": "2019-12-03T02:14:47.008341Z"
    }
   },
   "outputs": [],
   "source": [
    "hdf = '../../data/hdf'\n",
    "#print(os.path.join(hdf, 'SrcPort*.h5'))\n",
    "#print(hdf)\n",
    "hdfFiles=glob(os.path.join(hdf, 'SrcPort*05.h5'))\n",
    "#print(type(hdfFiles))\n",
    "print(hdfFiles)"
   ]
  },
  {
   "cell_type": "code",
   "execution_count": null,
   "metadata": {},
   "outputs": [],
   "source": []
  },
  {
   "cell_type": "code",
   "execution_count": null,
   "metadata": {
    "ExecuteTime": {
     "end_time": "2019-12-03T02:14:51.129884Z",
     "start_time": "2019-12-03T02:14:51.126067Z"
    }
   },
   "outputs": [],
   "source": [
    "#file objext, acts like python dictionary, thus we can check keys -> there is one dataset 'df'\n",
    "import h5py\n",
    "f = h5py.File('../../data/hdf/SrcPort-netflow_day-05.h5','r')\n",
    "list(f.keys())"
   ]
  },
  {
   "cell_type": "code",
   "execution_count": null,
   "metadata": {
    "ExecuteTime": {
     "end_time": "2019-12-03T02:14:56.699530Z",
     "start_time": "2019-12-03T02:14:56.695051Z"
    }
   },
   "outputs": [],
   "source": [
    "filename = '../../data/hdf/SrcPort-netflow_day-05.h5'\n",
    "\n",
    "with h5py.File(filename, 'r') as f:\n",
    "    # List all groups\n",
    "    print(\"Keys: %s\" % f.keys())\n",
    "    a_group_key = list(f.keys())[0]\n",
    "\n",
    "    # Get the data\n",
    "    data = list(f[a_group_key])\n",
    "    \n",
    "print(data)"
   ]
  },
  {
   "cell_type": "code",
   "execution_count": null,
   "metadata": {
    "ExecuteTime": {
     "end_time": "2019-12-03T02:07:02.643063Z",
     "start_time": "2019-12-03T02:07:02.536279Z"
    }
   },
   "outputs": [],
   "source": [
    "ak.get_datasets(filename)"
   ]
  },
  {
   "cell_type": "code",
   "execution_count": null,
   "metadata": {
    "ExecuteTime": {
     "end_time": "2019-12-03T02:07:59.940537Z",
     "start_time": "2019-12-03T02:07:59.927246Z"
    }
   },
   "outputs": [],
   "source": [
    "ak.ls_hdf(filename)"
   ]
  },
  {
   "cell_type": "code",
   "execution_count": null,
   "metadata": {
    "ExecuteTime": {
     "end_time": "2019-12-03T02:15:08.801324Z",
     "start_time": "2019-12-03T02:15:08.790993Z"
    }
   },
   "outputs": [],
   "source": [
    "data = ak.read_hdf('df',hdfFiles)"
   ]
  },
  {
   "cell_type": "code",
   "execution_count": null,
   "metadata": {},
   "outputs": [],
   "source": [
    "nrecords=data['srcIP'].size"
   ]
  },
  {
   "cell_type": "code",
   "execution_count": null,
   "metadata": {},
   "outputs": [],
   "source": []
  }
 ],
 "metadata": {
  "kernelspec": {
   "display_name": "Python 3",
   "language": "python",
   "name": "python3"
  },
  "language_info": {
   "codemirror_mode": {
    "name": "ipython",
    "version": 3
   },
   "file_extension": ".py",
   "mimetype": "text/x-python",
   "name": "python",
   "nbconvert_exporter": "python",
   "pygments_lexer": "ipython3",
   "version": "3.7.4"
  }
 },
 "nbformat": 4,
 "nbformat_minor": 2
}
