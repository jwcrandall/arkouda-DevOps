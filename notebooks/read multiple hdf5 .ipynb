{
 "cells": [
  {
   "cell_type": "code",
   "execution_count": 1,
   "metadata": {
    "ExecuteTime": {
     "end_time": "2019-12-18T16:17:00.636245Z",
     "start_time": "2019-12-18T16:17:00.060070Z"
    }
   },
   "outputs": [],
   "source": [
    "import h5py\n",
    "import tables\n",
    "import numpy as np\n",
    "import pandas as pd\n",
    "import sys\n",
    "import os\n",
    "import bz2\n",
    "import csv\n",
    "import math\n",
    "import arkouda as ak\n",
    "import timeit\n",
    "from glob import glob\n",
    "from decimal import Decimal\n",
    "from functools import partial\n",
    "from pathlib import Path"
   ]
  },
  {
   "cell_type": "code",
   "execution_count": 45,
   "metadata": {
    "ExecuteTime": {
     "end_time": "2019-12-19T19:17:45.603249Z",
     "start_time": "2019-12-19T19:17:45.598195Z"
    }
   },
   "outputs": [
    {
     "name": "stdout",
     "output_type": "stream",
     "text": [
      "connected to arkouda server tcp://*:5555\n"
     ]
    }
   ],
   "source": [
    "ak.connect(server='localhost',port='5555')"
   ]
  },
  {
   "cell_type": "code",
   "execution_count": null,
   "metadata": {
    "ExecuteTime": {
     "end_time": "2019-12-18T15:58:11.934917Z",
     "start_time": "2019-12-18T15:58:11.931935Z"
    }
   },
   "outputs": [],
   "source": [
    "ak.shutdown()"
   ]
  },
  {
   "cell_type": "markdown",
   "metadata": {},
   "source": [
    "### arkouda"
   ]
  },
  {
   "cell_type": "code",
   "execution_count": 29,
   "metadata": {
    "ExecuteTime": {
     "end_time": "2019-12-19T19:05:49.448536Z",
     "start_time": "2019-12-19T19:05:49.444114Z"
    }
   },
   "outputs": [
    {
     "data": {
      "text/plain": [
       "array([3, 5, 7])"
      ]
     },
     "execution_count": 29,
     "metadata": {},
     "output_type": "execute_result"
    }
   ],
   "source": [
    "a=[3,5,7]\n",
    "b=ak.array(a)\n",
    "b"
   ]
  },
  {
   "cell_type": "code",
   "execution_count": 55,
   "metadata": {
    "ExecuteTime": {
     "end_time": "2019-12-20T18:41:18.538025Z",
     "start_time": "2019-12-20T18:41:18.535039Z"
    }
   },
   "outputs": [
    {
     "name": "stdout",
     "output_type": "stream",
     "text": [
      "['/Users/josephcrandall/Documents/professional/employment/2019/DOD/repos/arkouda-DevOps/notebooks/dset4.h5', '/Users/josephcrandall/Documents/professional/employment/2019/DOD/repos/arkouda-DevOps/notebooks/dset1.h5', '/Users/josephcrandall/Documents/professional/employment/2019/DOD/repos/arkouda-DevOps/notebooks/dset2.h5', '/Users/josephcrandall/Documents/professional/employment/2019/DOD/repos/arkouda-DevOps/notebooks/dset3.h5']\n"
     ]
    }
   ],
   "source": [
    "cwd = os.getcwd()\n",
    "print(glob(cwd+'/dset*.h5'))"
   ]
  },
  {
   "cell_type": "code",
   "execution_count": 57,
   "metadata": {
    "ExecuteTime": {
     "end_time": "2019-12-20T18:41:44.253876Z",
     "start_time": "2019-12-20T18:41:44.251327Z"
    }
   },
   "outputs": [],
   "source": [
    "dlist = glob(cwd+'/dset*.h5')\n",
    "#Causes Segmentation Fault\n",
    "#dlist = glob(cwd+'/../../data/hdf/*netflow*5.h5')"
   ]
  },
  {
   "cell_type": "code",
   "execution_count": 58,
   "metadata": {
    "ExecuteTime": {
     "end_time": "2019-12-20T18:41:45.807580Z",
     "start_time": "2019-12-20T18:41:45.759415Z"
    }
   },
   "outputs": [
    {
     "data": {
      "text/plain": [
       "array([0, 4, 8, ..., 291, 294, 297])"
      ]
     },
     "execution_count": 58,
     "metadata": {},
     "output_type": "execute_result"
    }
   ],
   "source": [
    "#ak.read_hdf('SrcPackets',glob('../../data/hdf/*netflow*5.h5'))\n",
    "#ak.read_hdf('dset',glob('../d*.h5'))\n",
    "ak.read_hdf('dset',dlist)"
   ]
  },
  {
   "cell_type": "code",
   "execution_count": null,
   "metadata": {},
   "outputs": [],
   "source": []
  },
  {
   "cell_type": "markdown",
   "metadata": {},
   "source": [
    "### Experimental Bellow"
   ]
  },
  {
   "cell_type": "code",
   "execution_count": null,
   "metadata": {
    "ExecuteTime": {
     "end_time": "2019-12-09T16:50:07.201300Z",
     "start_time": "2019-12-09T16:50:07.183379Z"
    }
   },
   "outputs": [],
   "source": [
    "import h5py\n",
    "h5py.run_tests()"
   ]
  },
  {
   "cell_type": "code",
   "execution_count": null,
   "metadata": {
    "ExecuteTime": {
     "end_time": "2019-12-03T03:17:05.877573Z",
     "start_time": "2019-12-03T03:17:05.870411Z"
    }
   },
   "outputs": [],
   "source": [
    "#bz2.open('../../data/bz2/netflow_day-05.bz2','r')"
   ]
  },
  {
   "cell_type": "code",
   "execution_count": null,
   "metadata": {
    "ExecuteTime": {
     "end_time": "2019-12-09T13:29:31.730648Z",
     "start_time": "2019-12-09T13:29:31.483465Z"
    }
   },
   "outputs": [],
   "source": [
    "df = pd.read_csv('../../data/csv/netflow_day-02.csv')\n",
    "#df.columns=['Time','Duration','SrcDevice','DstDevice','Protocol','SrcPort','DstPort','SrcPackets','DstPackets','SrcBytes','DstBytes']\n",
    "#df.to_csv(\"../../data/csv/netflow_day-05.csv\")\n",
    "print(df.shape)\n",
    "df.head()"
   ]
  },
  {
   "cell_type": "code",
   "execution_count": null,
   "metadata": {
    "ExecuteTime": {
     "end_time": "2019-12-09T12:46:42.055751Z",
     "start_time": "2019-12-09T12:46:42.051734Z"
    }
   },
   "outputs": [],
   "source": [
    "millnames = ['',' Thousand',' Million', ' Billion', ' Trillion', ' Quadrillion']\n",
    "def millify(n):\n",
    "    n=float(n)\n",
    "    millidx=max(0,min(len(millnames)-1,\n",
    "                     int(math.floor(0 if n == 0 else math.log10(abs(n))/3))))\n",
    "    return '{:.0f}{}'.format(n/10**(3*millidx), millnames[millidx])"
   ]
  },
  {
   "cell_type": "code",
   "execution_count": null,
   "metadata": {
    "ExecuteTime": {
     "end_time": "2019-12-09T12:47:09.306229Z",
     "start_time": "2019-12-09T12:47:09.303706Z"
    }
   },
   "outputs": [],
   "source": [
    "print(millify(1e17))"
   ]
  },
  {
   "cell_type": "code",
   "execution_count": null,
   "metadata": {
    "ExecuteTime": {
     "end_time": "2019-12-02T16:10:11.113593Z",
     "start_time": "2019-12-02T16:10:11.108852Z"
    }
   },
   "outputs": [],
   "source": [
    "#df = pd.DataFrame(data.values,columns=['Time','Duration','SrcDevice','DstDevice','Protocol','SrcPort','DstPort','SrcPackets','DstPackets','SrcBytes','DstBytes'])\n",
    "#df = pd.DataFrame(data.values, columns = [list(range(11))])\n",
    "rows, columns = df.shape\n",
    "#rows = '%.2E' % Decimal(rows)\n",
    "print(str(millify(rows))+', '+ str(columns))"
   ]
  },
  {
   "cell_type": "code",
   "execution_count": null,
   "metadata": {
    "ExecuteTime": {
     "end_time": "2019-12-03T00:53:02.470387Z",
     "start_time": "2019-12-03T00:52:59.899619Z"
    }
   },
   "outputs": [],
   "source": [
    "df[['SrcPort','DstPort']].head()"
   ]
  },
  {
   "cell_type": "code",
   "execution_count": null,
   "metadata": {
    "ExecuteTime": {
     "end_time": "2019-12-03T01:01:38.370498Z",
     "start_time": "2019-12-03T01:01:38.325737Z"
    }
   },
   "outputs": [],
   "source": [
    "df[['SrcPort','DstPort']].to_hdf('../../data/hdf/SrcPort-netflow_day-05.h5',key='df', mode='w')"
   ]
  },
  {
   "cell_type": "code",
   "execution_count": null,
   "metadata": {
    "ExecuteTime": {
     "end_time": "2019-12-03T01:01:49.686335Z",
     "start_time": "2019-12-03T01:01:49.656506Z"
    }
   },
   "outputs": [],
   "source": [
    "#Series Dataframe\n",
    "df_Src=pd.read_hdf('../../data/hdf/SrcPort-netflow_day-05.h5', 'df')\n",
    "print(df_Src.shape)\n",
    "df_Src.head(5)\n",
    "#print(str(millify(df_Src.shape[0]))+', '+ str(df_Src.shape[1]))"
   ]
  },
  {
   "cell_type": "code",
   "execution_count": null,
   "metadata": {
    "ExecuteTime": {
     "end_time": "2019-12-03T01:01:57.522276Z",
     "start_time": "2019-12-03T01:01:57.519613Z"
    }
   },
   "outputs": [],
   "source": []
  },
  {
   "cell_type": "code",
   "execution_count": null,
   "metadata": {
    "ExecuteTime": {
     "end_time": "2019-12-03T02:14:47.013089Z",
     "start_time": "2019-12-03T02:14:47.008341Z"
    }
   },
   "outputs": [],
   "source": [
    "hdf = '../../data/hdf'\n",
    "#print(os.path.join(hdf, 'SrcPort*.h5'))\n",
    "#print(hdf)\n",
    "hdfFiles=glob(os.path.join(hdf, 'SrcPort*05.h5'))\n",
    "#print(type(hdfFiles))\n",
    "print(hdfFiles)"
   ]
  },
  {
   "cell_type": "code",
   "execution_count": null,
   "metadata": {},
   "outputs": [],
   "source": []
  },
  {
   "cell_type": "code",
   "execution_count": null,
   "metadata": {
    "ExecuteTime": {
     "end_time": "2019-12-03T02:14:51.129884Z",
     "start_time": "2019-12-03T02:14:51.126067Z"
    }
   },
   "outputs": [],
   "source": [
    "#file objext, acts like python dictionary, thus we can check keys -> there is one dataset 'df'\n",
    "import h5py\n",
    "f = h5py.File('../../data/hdf/SrcPort-netflow_day-05.h5','r')\n",
    "list(f.keys())"
   ]
  },
  {
   "cell_type": "code",
   "execution_count": null,
   "metadata": {
    "ExecuteTime": {
     "end_time": "2019-12-03T02:14:56.699530Z",
     "start_time": "2019-12-03T02:14:56.695051Z"
    }
   },
   "outputs": [],
   "source": [
    "filename = '../../data/hdf/SrcPort-netflow_day-05.h5'\n",
    "\n",
    "with h5py.File(filename, 'r') as f:\n",
    "    # List all groups\n",
    "    print(\"Keys: %s\" % f.keys())\n",
    "    a_group_key = list(f.keys())[0]\n",
    "\n",
    "    # Get the data\n",
    "    data = list(f[a_group_key])\n",
    "    \n",
    "print(data)"
   ]
  },
  {
   "cell_type": "code",
   "execution_count": null,
   "metadata": {
    "ExecuteTime": {
     "end_time": "2019-12-03T02:07:02.643063Z",
     "start_time": "2019-12-03T02:07:02.536279Z"
    }
   },
   "outputs": [],
   "source": [
    "ak.get_datasets(filename)"
   ]
  },
  {
   "cell_type": "code",
   "execution_count": null,
   "metadata": {
    "ExecuteTime": {
     "end_time": "2019-12-03T02:07:59.940537Z",
     "start_time": "2019-12-03T02:07:59.927246Z"
    }
   },
   "outputs": [],
   "source": [
    "ak.ls_hdf(filename)"
   ]
  },
  {
   "cell_type": "code",
   "execution_count": null,
   "metadata": {
    "ExecuteTime": {
     "end_time": "2019-12-03T02:15:08.801324Z",
     "start_time": "2019-12-03T02:15:08.790993Z"
    }
   },
   "outputs": [],
   "source": [
    "data = ak.read_hdf('df',hdfFiles)"
   ]
  },
  {
   "cell_type": "code",
   "execution_count": null,
   "metadata": {},
   "outputs": [],
   "source": [
    "nrecords=data['srcIP'].size"
   ]
  },
  {
   "cell_type": "code",
   "execution_count": null,
   "metadata": {},
   "outputs": [],
   "source": []
  }
 ],
 "metadata": {
  "kernelspec": {
   "display_name": "Python 3",
   "language": "python",
   "name": "python3"
  },
  "language_info": {
   "codemirror_mode": {
    "name": "ipython",
    "version": 3
   },
   "file_extension": ".py",
   "mimetype": "text/x-python",
   "name": "python",
   "nbconvert_exporter": "python",
   "pygments_lexer": "ipython3",
   "version": "3.7.4"
  }
 },
 "nbformat": 4,
 "nbformat_minor": 2
}
