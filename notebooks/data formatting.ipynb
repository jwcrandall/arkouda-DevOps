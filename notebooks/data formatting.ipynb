{
 "cells": [
  {
   "cell_type": "code",
   "execution_count": 6,
   "metadata": {
    "ExecuteTime": {
     "end_time": "2019-12-16T22:15:34.589128Z",
     "start_time": "2019-12-16T22:15:33.964188Z"
    }
   },
   "outputs": [],
   "source": [
    "import os\n",
    "import pandas as pd\n",
    "from glob import glob"
   ]
  },
  {
   "cell_type": "markdown",
   "metadata": {},
   "source": [
    "### Multiple bz2 via glob to csv and hdf5 "
   ]
  },
  {
   "cell_type": "code",
   "execution_count": 7,
   "metadata": {
    "ExecuteTime": {
     "end_time": "2019-12-16T22:17:09.549137Z",
     "start_time": "2019-12-16T22:15:35.412274Z"
    }
   },
   "outputs": [],
   "source": [
    "bz2 = '../../../data/bz2'\n",
    "exp=4\n",
    "for file in glob(os.path.join(bz2, 'netflow*.bz2')):\n",
    "    #print (file)\n",
    "    \n",
    "    #reading zip files\n",
    "    nrows = float('1e'+str(exp))\n",
    "    #print(nrows)\n",
    "    \n",
    "    #differnt number of rows\n",
    "    #nrows = int(str('1e'+str(exp)))\n",
    "    df = pd.read_csv(file,nrows= nrows)\n",
    "    exp=exp+1\n",
    "    df.columns=['Time','Duration','SrcDevice','DstDevice','Protocol','SrcPort','DstPort','SrcPackets','DstPackets','SrcBytes','DstBytes']\n",
    "    s = str(file)\n",
    "    s = s[-18:-4]\n",
    "    csv='../../../data/csv/'+s+'.csv'\n",
    "    hdf='../../../data/hdf/SrcPackets-'+s+'.h5'\n",
    "\n",
    "    # unlinking old files\n",
    "    try:\n",
    "        os.unlink(csv)\n",
    "    except FileNotFoundError: \n",
    "        print(csv , 'does not exist')\n",
    "    try:\n",
    "        os.unlink(hdf)\n",
    "    except FileNotFoundError: \n",
    "        print(hdf , 'does not exist')\n",
    "    \n",
    "    #append to new file\n",
    "    df.to_csv(csv)\n",
    "    df[['SrcPackets']].to_hdf(hdf,key='SrcPackets')\n",
    "    #df[['SrcPort']].to_hdf('../../data/hdf/SrcPort-netflow_day-05.h5',key='df', mode='w')"
   ]
  }
 ],
 "metadata": {
  "kernelspec": {
   "display_name": "Python 3",
   "language": "python",
   "name": "python3"
  },
  "language_info": {
   "codemirror_mode": {
    "name": "ipython",
    "version": 3
   },
   "file_extension": ".py",
   "mimetype": "text/x-python",
   "name": "python",
   "nbconvert_exporter": "python",
   "pygments_lexer": "ipython3",
   "version": "3.7.4"
  }
 },
 "nbformat": 4,
 "nbformat_minor": 2
}
