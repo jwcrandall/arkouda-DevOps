{
 "cells": [
  {
   "cell_type": "code",
   "execution_count": 1,
   "metadata": {
    "ExecuteTime": {
     "end_time": "2019-12-20T18:52:13.923934Z",
     "start_time": "2019-12-20T18:52:13.339051Z"
    }
   },
   "outputs": [],
   "source": [
    "import h5py\n",
    "import tables\n",
    "import numpy as np\n",
    "import pandas as pd\n",
    "import sys\n",
    "import os\n",
    "import bz2\n",
    "import csv\n",
    "import math\n",
    "import arkouda as ak\n",
    "import timeit\n",
    "from glob import glob\n",
    "from decimal import Decimal\n",
    "from functools import partial\n",
    "from pathlib import Path"
   ]
  },
  {
   "cell_type": "code",
   "execution_count": 13,
   "metadata": {
    "ExecuteTime": {
     "end_time": "2019-12-20T18:57:37.333065Z",
     "start_time": "2019-12-20T18:57:37.328518Z"
    }
   },
   "outputs": [
    {
     "name": "stdout",
     "output_type": "stream",
     "text": [
      "connected to arkouda server tcp://*:5555\n"
     ]
    }
   ],
   "source": [
    "ak.connect(server='localhost',port='5555')"
   ]
  },
  {
   "cell_type": "code",
   "execution_count": null,
   "metadata": {
    "ExecuteTime": {
     "end_time": "2019-12-18T15:58:11.934917Z",
     "start_time": "2019-12-18T15:58:11.931935Z"
    }
   },
   "outputs": [],
   "source": [
    "ak.shutdown()"
   ]
  },
  {
   "cell_type": "markdown",
   "metadata": {},
   "source": [
    "### arkouda hdf5 read"
   ]
  },
  {
   "cell_type": "code",
   "execution_count": 22,
   "metadata": {
    "ExecuteTime": {
     "end_time": "2020-01-02T16:20:24.340573Z",
     "start_time": "2020-01-02T16:20:24.335744Z"
    }
   },
   "outputs": [],
   "source": [
    "a=[3,5,7]\n",
    "b=ak.array(a)"
   ]
  },
  {
   "cell_type": "code",
   "execution_count": 23,
   "metadata": {
    "ExecuteTime": {
     "end_time": "2020-01-02T16:20:29.436490Z",
     "start_time": "2020-01-02T16:20:29.431969Z"
    }
   },
   "outputs": [
    {
     "name": "stdout",
     "output_type": "stream",
     "text": [
      "['/Users/josephcrandall/Documents/professional/employment/2019/DOD/repos/arkouda-DevOps/notebooks/dset4.h5', '/Users/josephcrandall/Documents/professional/employment/2019/DOD/repos/arkouda-DevOps/notebooks/dset1.h5', '/Users/josephcrandall/Documents/professional/employment/2019/DOD/repos/arkouda-DevOps/notebooks/dset2.h5', '/Users/josephcrandall/Documents/professional/employment/2019/DOD/repos/arkouda-DevOps/notebooks/dset3.h5']\n"
     ]
    }
   ],
   "source": [
    "cwd = os.getcwd()\n",
    "print(glob(cwd+'/dset*.h5'))"
   ]
  },
  {
   "cell_type": "code",
   "execution_count": 24,
   "metadata": {
    "ExecuteTime": {
     "end_time": "2020-01-02T16:20:32.463399Z",
     "start_time": "2020-01-02T16:20:32.457827Z"
    }
   },
   "outputs": [
    {
     "data": {
      "text/plain": [
       "[]"
      ]
     },
     "execution_count": 24,
     "metadata": {},
     "output_type": "execute_result"
    }
   ],
   "source": [
    "dlist = glob(cwd+'/dset*.h5')\n",
    "#Causes Segmentation Fault\n",
    "#dlist = glob(cwd+'/../../data/hdf/*netflow*5.h5')\n",
    "glob('../dset*.h5')"
   ]
  },
  {
   "cell_type": "code",
   "execution_count": 26,
   "metadata": {
    "ExecuteTime": {
     "end_time": "2020-01-02T16:20:48.115310Z",
     "start_time": "2020-01-02T16:20:48.106331Z"
    }
   },
   "outputs": [
    {
     "data": {
      "text/plain": [
       "array([  0,   4,   8,  12,  16,  20,  24,  28,  32,  36,  40,  44,  48,\n",
       "        52,  56,  60,  64,  68,  72,  76,  80,  84,  88,  92,  96, 100,\n",
       "       104, 108, 112, 116, 120, 124, 128, 132, 136, 140, 144, 148, 152,\n",
       "       156, 160, 164, 168, 172, 176, 180, 184, 188, 192, 196, 200, 204,\n",
       "       208, 212, 216, 220, 224, 228, 232, 236, 240, 244, 248, 252, 256,\n",
       "       260, 264, 268, 272, 276, 280, 284, 288, 292, 296, 300, 304, 308,\n",
       "       312, 316, 320, 324, 328, 332, 336, 340, 344, 348, 352, 356, 360,\n",
       "       364, 368, 372, 376, 380, 384, 388, 392, 396,   0,   1,   2,   3,\n",
       "         4,   5,   6,   7,   8,   9,  10,  11,  12,  13,  14,  15,  16,\n",
       "        17,  18,  19,  20,  21,  22,  23,  24,  25,  26,  27,  28,  29,\n",
       "        30,  31,  32,  33,  34,  35,  36,  37,  38,  39,  40,  41,  42,\n",
       "        43,  44,  45,  46,  47,  48,  49,  50,  51,  52,  53,  54,  55,\n",
       "        56,  57,  58,  59,  60,  61,  62,  63,  64,  65,  66,  67,  68,\n",
       "        69,  70,  71,  72,  73,  74,  75,  76,  77,  78,  79,  80,  81,\n",
       "        82,  83,  84,  85,  86,  87,  88,  89,  90,  91,  92,  93,  94,\n",
       "        95,  96,  97,  98,  99,   0,   2,   4,   6,   8,  10,  12,  14,\n",
       "        16,  18,  20,  22,  24,  26,  28,  30,  32,  34,  36,  38,  40,\n",
       "        42,  44,  46,  48,  50,  52,  54,  56,  58,  60,  62,  64,  66,\n",
       "        68,  70,  72,  74,  76,  78,  80,  82,  84,  86,  88,  90,  92,\n",
       "        94,  96,  98, 100, 102, 104, 106, 108, 110, 112, 114, 116, 118,\n",
       "       120, 122, 124, 126, 128, 130, 132, 134, 136, 138, 140, 142, 144,\n",
       "       146, 148, 150, 152, 154, 156, 158, 160, 162, 164, 166, 168, 170,\n",
       "       172, 174, 176, 178, 180, 182, 184, 186, 188, 190, 192, 194, 196,\n",
       "       198,   0,   3,   6,   9,  12,  15,  18,  21,  24,  27,  30,  33,\n",
       "        36,  39,  42,  45,  48,  51,  54,  57,  60,  63,  66,  69,  72,\n",
       "        75,  78,  81,  84,  87,  90,  93,  96,  99, 102, 105, 108, 111,\n",
       "       114, 117, 120, 123, 126, 129, 132, 135, 138, 141, 144, 147, 150,\n",
       "       153, 156, 159, 162, 165, 168, 171, 174, 177, 180, 183, 186, 189,\n",
       "       192, 195, 198, 201, 204, 207, 210, 213, 216, 219, 222, 225, 228,\n",
       "       231, 234, 237, 240, 243, 246, 249, 252, 255, 258, 261, 264, 267,\n",
       "       270, 273, 276, 279, 282, 285, 288, 291, 294, 297])"
      ]
     },
     "execution_count": 26,
     "metadata": {},
     "output_type": "execute_result"
    }
   ],
   "source": [
    "dlist = glob(cwd+'/dset*.h5')\n",
    "#ak.read_hdf('SrcPackets',glob('../../data/hdf/*netflow*5.h5'))\n",
    "#ak.read_hdf('dset',glob('../d*.h5'))\n",
    "a = ak.read_hdf('dset',dlist)\n",
    "a.to_ndarray()"
   ]
  },
  {
   "cell_type": "markdown",
   "metadata": {},
   "source": [
    "### read multiple datasets from multiple HDF5 files"
   ]
  },
  {
   "cell_type": "code",
   "execution_count": null,
   "metadata": {},
   "outputs": [],
   "source": [
    "a = ak.read_hdf('dset',dlist)\n",
    "a.to_ndarray()"
   ]
  },
  {
   "cell_type": "markdown",
   "metadata": {},
   "source": [
    "### Experimental Bellow"
   ]
  },
  {
   "cell_type": "code",
   "execution_count": null,
   "metadata": {
    "ExecuteTime": {
     "end_time": "2019-12-09T16:50:07.201300Z",
     "start_time": "2019-12-09T16:50:07.183379Z"
    }
   },
   "outputs": [],
   "source": [
    "import h5py\n",
    "h5py.run_tests()"
   ]
  },
  {
   "cell_type": "code",
   "execution_count": null,
   "metadata": {
    "ExecuteTime": {
     "end_time": "2019-12-03T03:17:05.877573Z",
     "start_time": "2019-12-03T03:17:05.870411Z"
    }
   },
   "outputs": [],
   "source": [
    "#bz2.open('../../data/bz2/netflow_day-05.bz2','r')"
   ]
  },
  {
   "cell_type": "code",
   "execution_count": null,
   "metadata": {
    "ExecuteTime": {
     "end_time": "2019-12-09T13:29:31.730648Z",
     "start_time": "2019-12-09T13:29:31.483465Z"
    }
   },
   "outputs": [],
   "source": [
    "df = pd.read_csv('../../data/csv/netflow_day-02.csv')\n",
    "#df.columns=['Time','Duration','SrcDevice','DstDevice','Protocol','SrcPort','DstPort','SrcPackets','DstPackets','SrcBytes','DstBytes']\n",
    "#df.to_csv(\"../../data/csv/netflow_day-05.csv\")\n",
    "print(df.shape)\n",
    "df.head()"
   ]
  },
  {
   "cell_type": "code",
   "execution_count": null,
   "metadata": {
    "ExecuteTime": {
     "end_time": "2019-12-09T12:46:42.055751Z",
     "start_time": "2019-12-09T12:46:42.051734Z"
    }
   },
   "outputs": [],
   "source": [
    "millnames = ['',' Thousand',' Million', ' Billion', ' Trillion', ' Quadrillion']\n",
    "def millify(n):\n",
    "    n=float(n)\n",
    "    millidx=max(0,min(len(millnames)-1,\n",
    "                     int(math.floor(0 if n == 0 else math.log10(abs(n))/3))))\n",
    "    return '{:.0f}{}'.format(n/10**(3*millidx), millnames[millidx])"
   ]
  },
  {
   "cell_type": "code",
   "execution_count": null,
   "metadata": {
    "ExecuteTime": {
     "end_time": "2019-12-09T12:47:09.306229Z",
     "start_time": "2019-12-09T12:47:09.303706Z"
    }
   },
   "outputs": [],
   "source": [
    "print(millify(1e17))"
   ]
  },
  {
   "cell_type": "code",
   "execution_count": null,
   "metadata": {
    "ExecuteTime": {
     "end_time": "2019-12-02T16:10:11.113593Z",
     "start_time": "2019-12-02T16:10:11.108852Z"
    }
   },
   "outputs": [],
   "source": [
    "#df = pd.DataFrame(data.values,columns=['Time','Duration','SrcDevice','DstDevice','Protocol','SrcPort','DstPort','SrcPackets','DstPackets','SrcBytes','DstBytes'])\n",
    "#df = pd.DataFrame(data.values, columns = [list(range(11))])\n",
    "rows, columns = df.shape\n",
    "#rows = '%.2E' % Decimal(rows)\n",
    "print(str(millify(rows))+', '+ str(columns))"
   ]
  },
  {
   "cell_type": "code",
   "execution_count": null,
   "metadata": {
    "ExecuteTime": {
     "end_time": "2019-12-03T00:53:02.470387Z",
     "start_time": "2019-12-03T00:52:59.899619Z"
    }
   },
   "outputs": [],
   "source": [
    "df[['SrcPort','DstPort']].head()"
   ]
  },
  {
   "cell_type": "code",
   "execution_count": null,
   "metadata": {
    "ExecuteTime": {
     "end_time": "2019-12-03T01:01:38.370498Z",
     "start_time": "2019-12-03T01:01:38.325737Z"
    }
   },
   "outputs": [],
   "source": [
    "df[['SrcPort','DstPort']].to_hdf('../../data/hdf/SrcPort-netflow_day-05.h5',key='df', mode='w')"
   ]
  },
  {
   "cell_type": "code",
   "execution_count": null,
   "metadata": {
    "ExecuteTime": {
     "end_time": "2019-12-03T01:01:49.686335Z",
     "start_time": "2019-12-03T01:01:49.656506Z"
    }
   },
   "outputs": [],
   "source": [
    "#Series Dataframe\n",
    "df_Src=pd.read_hdf('../../data/hdf/SrcPort-netflow_day-05.h5', 'df')\n",
    "print(df_Src.shape)\n",
    "df_Src.head(5)\n",
    "#print(str(millify(df_Src.shape[0]))+', '+ str(df_Src.shape[1]))"
   ]
  },
  {
   "cell_type": "code",
   "execution_count": null,
   "metadata": {
    "ExecuteTime": {
     "end_time": "2019-12-03T01:01:57.522276Z",
     "start_time": "2019-12-03T01:01:57.519613Z"
    }
   },
   "outputs": [],
   "source": []
  },
  {
   "cell_type": "code",
   "execution_count": null,
   "metadata": {
    "ExecuteTime": {
     "end_time": "2019-12-03T02:14:47.013089Z",
     "start_time": "2019-12-03T02:14:47.008341Z"
    }
   },
   "outputs": [],
   "source": [
    "hdf = '../../data/hdf'\n",
    "#print(os.path.join(hdf, 'SrcPort*.h5'))\n",
    "#print(hdf)\n",
    "hdfFiles=glob(os.path.join(hdf, 'SrcPort*05.h5'))\n",
    "#print(type(hdfFiles))\n",
    "print(hdfFiles)"
   ]
  },
  {
   "cell_type": "code",
   "execution_count": null,
   "metadata": {},
   "outputs": [],
   "source": []
  },
  {
   "cell_type": "code",
   "execution_count": null,
   "metadata": {
    "ExecuteTime": {
     "end_time": "2019-12-03T02:14:51.129884Z",
     "start_time": "2019-12-03T02:14:51.126067Z"
    }
   },
   "outputs": [],
   "source": [
    "#file objext, acts like python dictionary, thus we can check keys -> there is one dataset 'df'\n",
    "import h5py\n",
    "f = h5py.File('../../data/hdf/SrcPort-netflow_day-05.h5','r')\n",
    "list(f.keys())"
   ]
  },
  {
   "cell_type": "code",
   "execution_count": null,
   "metadata": {
    "ExecuteTime": {
     "end_time": "2019-12-03T02:14:56.699530Z",
     "start_time": "2019-12-03T02:14:56.695051Z"
    }
   },
   "outputs": [],
   "source": [
    "filename = '../../data/hdf/SrcPort-netflow_day-05.h5'\n",
    "\n",
    "with h5py.File(filename, 'r') as f:\n",
    "    # List all groups\n",
    "    print(\"Keys: %s\" % f.keys())\n",
    "    a_group_key = list(f.keys())[0]\n",
    "\n",
    "    # Get the data\n",
    "    data = list(f[a_group_key])\n",
    "    \n",
    "print(data)"
   ]
  },
  {
   "cell_type": "code",
   "execution_count": null,
   "metadata": {
    "ExecuteTime": {
     "end_time": "2019-12-03T02:07:02.643063Z",
     "start_time": "2019-12-03T02:07:02.536279Z"
    }
   },
   "outputs": [],
   "source": [
    "ak.get_datasets(filename)"
   ]
  },
  {
   "cell_type": "code",
   "execution_count": null,
   "metadata": {
    "ExecuteTime": {
     "end_time": "2019-12-03T02:07:59.940537Z",
     "start_time": "2019-12-03T02:07:59.927246Z"
    }
   },
   "outputs": [],
   "source": [
    "ak.ls_hdf(filename)"
   ]
  },
  {
   "cell_type": "code",
   "execution_count": null,
   "metadata": {
    "ExecuteTime": {
     "end_time": "2019-12-03T02:15:08.801324Z",
     "start_time": "2019-12-03T02:15:08.790993Z"
    }
   },
   "outputs": [],
   "source": [
    "data = ak.read_hdf('df',hdfFiles)"
   ]
  },
  {
   "cell_type": "code",
   "execution_count": null,
   "metadata": {},
   "outputs": [],
   "source": [
    "nrecords=data['srcIP'].size"
   ]
  },
  {
   "cell_type": "code",
   "execution_count": null,
   "metadata": {},
   "outputs": [],
   "source": []
  }
 ],
 "metadata": {
  "kernelspec": {
   "display_name": "Python 3",
   "language": "python",
   "name": "python3"
  },
  "language_info": {
   "codemirror_mode": {
    "name": "ipython",
    "version": 3
   },
   "file_extension": ".py",
   "mimetype": "text/x-python",
   "name": "python",
   "nbconvert_exporter": "python",
   "pygments_lexer": "ipython3",
   "version": "3.7.4"
  }
 },
 "nbformat": 4,
 "nbformat_minor": 2
}
