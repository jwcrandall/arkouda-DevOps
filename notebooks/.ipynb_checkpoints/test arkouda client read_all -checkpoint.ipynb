{
 "cells": [
  {
   "cell_type": "code",
   "execution_count": 1,
   "metadata": {
    "ExecuteTime": {
     "end_time": "2020-01-23T16:06:04.189682Z",
     "start_time": "2020-01-23T16:06:03.554152Z"
    }
   },
   "outputs": [],
   "source": [
    "import os\n",
    "import arkouda as ak\n",
    "from glob import glob"
   ]
  },
  {
   "cell_type": "code",
   "execution_count": 2,
   "metadata": {
    "ExecuteTime": {
     "end_time": "2020-01-23T16:06:05.142962Z",
     "start_time": "2020-01-23T16:06:05.140189Z"
    }
   },
   "outputs": [
    {
     "name": "stdout",
     "output_type": "stream",
     "text": [
      "/Users/josephcrandall/Documents/professional/employment/2020/DOD20/repos/arkouda/arkouda/__init__.py\n"
     ]
    }
   ],
   "source": [
    "print(ak.__file__)"
   ]
  },
  {
   "cell_type": "code",
   "execution_count": 3,
   "metadata": {
    "ExecuteTime": {
     "end_time": "2020-01-23T16:06:06.768971Z",
     "start_time": "2020-01-23T16:06:06.763693Z"
    }
   },
   "outputs": [
    {
     "name": "stdout",
     "output_type": "stream",
     "text": [
      "connected to arkouda server tcp://*:5555\n",
      "{\"arkoudaVersion\":\"2019.12.12\", \"ZMQVersion\":\"4.3.2\", \"HDF5Version\":\"1.10.5\", \"serverHostname\":\"MacBook-Pro-75.local\", \"ServerPort\":5555, \"numLocales\":1, \"numPUs\":8, \"maxTaskPar\":8, \"physicalMemory\":68719476736, \"distributionType\":\"BlockDom(1,int(64),false,unmanaged DefaultDist)\", \"LocaleConfigs\":[{\"id\":0, \"name\":\"MacBook-Pro-75.local\", \"numPUs\":8, \"maxTaskPar\":8, \"physicalMemory\":68719476736}]}\n"
     ]
    }
   ],
   "source": [
    "ak.connect(server='localhost',port='5555')"
   ]
  },
  {
   "cell_type": "code",
   "execution_count": 4,
   "metadata": {
    "ExecuteTime": {
     "end_time": "2020-01-23T16:06:08.477926Z",
     "start_time": "2020-01-23T16:06:08.474732Z"
    }
   },
   "outputs": [
    {
     "ename": "SyntaxError",
     "evalue": "unexpected EOF while parsing (<ipython-input-4-cc64f545f0bc>, line 5)",
     "output_type": "error",
     "traceback": [
      "\u001b[0;36m  File \u001b[0;32m\"<ipython-input-4-cc64f545f0bc>\"\u001b[0;36m, line \u001b[0;32m5\u001b[0m\n\u001b[0;31m    #print(a.to_ndarray())\u001b[0m\n\u001b[0m                          ^\u001b[0m\n\u001b[0;31mSyntaxError\u001b[0m\u001b[0;31m:\u001b[0m unexpected EOF while parsing\n"
     ]
    }
   ],
   "source": [
    "cwd = os.getcwd()\n",
    "#a = ak.read_all(glob(cwd+'/../../../data/hdf/netflow_day-1*.h5'), ['Time', 'Duration', 'Protocol'], False)\n",
    "a = ak.read_all(glob(cwd+'/../../../data/hdf/netflow_day-*.h5')\n",
    "#print(type(a))\n",
    "#print(a.to_ndarray())"
   ]
  },
  {
   "cell_type": "code",
   "execution_count": null,
   "metadata": {
    "ExecuteTime": {
     "end_time": "2020-01-23T01:06:32.366448Z",
     "start_time": "2020-01-23T01:06:32.362933Z"
    }
   },
   "outputs": [],
   "source": [
    "ak.shutdown()"
   ]
  },
  {
   "cell_type": "code",
   "execution_count": null,
   "metadata": {},
   "outputs": [],
   "source": []
  }
 ],
 "metadata": {
  "kernelspec": {
   "display_name": "Python 3",
   "language": "python",
   "name": "python3"
  },
  "language_info": {
   "codemirror_mode": {
    "name": "ipython",
    "version": 3
   },
   "file_extension": ".py",
   "mimetype": "text/x-python",
   "name": "python",
   "nbconvert_exporter": "python",
   "pygments_lexer": "ipython3",
   "version": "3.7.4"
  }
 },
 "nbformat": 4,
 "nbformat_minor": 2
}
