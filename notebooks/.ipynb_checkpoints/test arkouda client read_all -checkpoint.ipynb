{
 "cells": [
  {
   "cell_type": "code",
   "execution_count": 1,
   "metadata": {
    "ExecuteTime": {
     "end_time": "2020-02-02T16:01:05.534875Z",
     "start_time": "2020-02-02T16:01:05.075786Z"
    }
   },
   "outputs": [],
   "source": [
    "import os\n",
    "import arkouda as ak\n",
    "from glob import glob"
   ]
  },
  {
   "cell_type": "code",
   "execution_count": 2,
   "metadata": {
    "ExecuteTime": {
     "end_time": "2020-02-02T16:01:06.249334Z",
     "start_time": "2020-02-02T16:01:06.246484Z"
    }
   },
   "outputs": [
    {
     "name": "stdout",
     "output_type": "stream",
     "text": [
      "/Users/josephcrandall/Documents/professional/employment/20s/2020/DOD20/repos/arkouda/arkouda/__init__.py\n"
     ]
    }
   ],
   "source": [
    "print(ak.__file__)"
   ]
  },
  {
   "cell_type": "code",
   "execution_count": 3,
   "metadata": {
    "ExecuteTime": {
     "end_time": "2020-02-02T16:01:06.859549Z",
     "start_time": "2020-02-02T16:01:06.845364Z"
    }
   },
   "outputs": [
    {
     "name": "stdout",
     "output_type": "stream",
     "text": [
      "connected to arkouda server tcp://*:5555\n",
      "{\"arkoudaVersion\":\"2019.12.12\", \"ZMQVersion\":\"4.3.2\", \"HDF5Version\":\"1.10.5\", \"serverHostname\":\"MacBook-Pro-75.local\", \"ServerPort\":5555, \"numLocales\":1, \"numPUs\":8, \"maxTaskPar\":8, \"physicalMemory\":68719476736, \"distributionType\":\"BlockDom(1,int(64),false,unmanaged DefaultDist)\", \"LocaleConfigs\":[{\"id\":0, \"name\":\"MacBook-Pro-75.local\", \"numPUs\":8, \"maxTaskPar\":8, \"physicalMemory\":68719476736}]}\n"
     ]
    }
   ],
   "source": [
    "ak.connect(server='localhost',port='5555')"
   ]
  },
  {
   "cell_type": "code",
   "execution_count": 4,
   "metadata": {
    "ExecuteTime": {
     "end_time": "2020-02-02T16:01:07.794207Z",
     "start_time": "2020-02-02T16:01:07.791238Z"
    }
   },
   "outputs": [
    {
     "name": "stdout",
     "output_type": "stream",
     "text": [
      "/Users/josephcrandall/Documents/professional/employment/20s/2020/DOD20/repos/arkouda-DevOps/notebooks\n"
     ]
    }
   ],
   "source": [
    "cwd = os.getcwd()\n",
    "print(cwd)"
   ]
  },
  {
   "cell_type": "markdown",
   "metadata": {},
   "source": [
    "# read_all arkouda server Iterative I and Single S Tests"
   ]
  },
  {
   "cell_type": "markdown",
   "metadata": {},
   "source": [
    "#### Test 1I, glob multi files (2 files, ~ total array length), single dataset array (native long), iterative true (multiple arkouda server calls)"
   ]
  },
  {
   "cell_type": "code",
   "execution_count": 8,
   "metadata": {
    "ExecuteTime": {
     "end_time": "2020-02-02T16:09:01.924154Z",
     "start_time": "2020-02-02T16:06:44.629474Z"
    }
   },
   "outputs": [
    {
     "name": "stdout",
     "output_type": "stream",
     "text": [
      "dstBytes                 Dataset {198584819}\n",
      "dstPkts                  Dataset {198584819}\n",
      "duration                 Dataset {198584819}\n",
      "proto                    Dataset {198584819}\n",
      "srcBytes                 Dataset {198584819}\n",
      "srcPkts                  Dataset {198584819}\n",
      "start                    Dataset {198584819}\n",
      "\n",
      "dstBytes                 Dataset {198584819}\n",
      "dstPkts                  Dataset {198584819}\n",
      "duration                 Dataset {198584819}\n",
      "proto                    Dataset {198584819}\n",
      "srcBytes                 Dataset {198584819}\n",
      "srcPkts                  Dataset {198584819}\n",
      "start                    Dataset {198584819}\n",
      "\n",
      "created id_10 int64 2017684453 1 (2017684453) 8\n",
      "created id_11 int64 2017684453 1 (2017684453) 8\n",
      "created id_12 int64 2017684453 1 (2017684453) 8\n",
      "created id_13 int64 2017684453 1 (2017684453) 8\n",
      "created id_14 int64 2017684453 1 (2017684453) 8\n",
      "created id_15 int64 2017684453 1 (2017684453) 8\n",
      "created id_16 int64 2017684453 1 (2017684453) 8\n",
      "deleted id_2\n"
     ]
    }
   ],
   "source": [
    "#a1 = ak.read_all(glob(cwd+'/../../../bigdata/hdf/netflow_day-*.h5'),'start', iterative=True)\n",
    "#a1 = ak.read_all(glob(cwd+'/../../../bigdata/hdf/netflow_day-*.h5'),['start'], iterative=True)\n",
    "a1 = ak.read_all(glob(cwd+'/../../../bigdata/hdf/netflow_day-*.h5'), iterative=True)"
   ]
  },
  {
   "cell_type": "code",
   "execution_count": 7,
   "metadata": {
    "ExecuteTime": {
     "end_time": "2020-02-02T16:06:05.126517Z",
     "start_time": "2020-02-02T16:04:16.722616Z"
    }
   },
   "outputs": [
    {
     "name": "stdout",
     "output_type": "stream",
     "text": [
      "dstBytes                 Dataset {198584819}\n",
      "dstPkts                  Dataset {198584819}\n",
      "duration                 Dataset {198584819}\n",
      "proto                    Dataset {198584819}\n",
      "srcBytes                 Dataset {198584819}\n",
      "srcPkts                  Dataset {198584819}\n",
      "start                    Dataset {198584819}\n",
      "\n",
      "dstBytes                 Dataset {198584819}\n",
      "dstPkts                  Dataset {198584819}\n",
      "duration                 Dataset {198584819}\n",
      "proto                    Dataset {198584819}\n",
      "srcBytes                 Dataset {198584819}\n",
      "srcPkts                  Dataset {198584819}\n",
      "start                    Dataset {198584819}\n",
      "\n",
      "created id_3 int64 2017684453 1 (2017684453) 8 + id_4 int64 2017684453 1 (2017684453) 8 + id_5 int64 2017684453 1 (2017684453) 8 + id_6 int64 2017684453 1 (2017684453) 8 + id_7 int64 2017684453 1 (2017684453) 8 + id_8 int64 2017684453 1 (2017684453) 8 + id_9 int64 2017684453 1 (2017684453) 8\n"
     ]
    },
    {
     "ename": "TypeError",
     "evalue": "__init__() takes 3 positional arguments but 8 were given",
     "output_type": "error",
     "traceback": [
      "\u001b[0;31m---------------------------------------------------------------------------\u001b[0m",
      "\u001b[0;31mTypeError\u001b[0m                                 Traceback (most recent call last)",
      "\u001b[0;32m<ipython-input-7-f7c70c267a31>\u001b[0m in \u001b[0;36m<module>\u001b[0;34m\u001b[0m\n\u001b[1;32m      5\u001b[0m \u001b[0;31m#a1 = ak.read_all(glob(cwd+'/../../../bigdata/hdf/netflow_day-*.h5'),'start', iterative=False)\u001b[0m\u001b[0;34m\u001b[0m\u001b[0;34m\u001b[0m\u001b[0;34m\u001b[0m\u001b[0m\n\u001b[1;32m      6\u001b[0m \u001b[0;31m#a1 = ak.read_all(glob(cwd+'/../../../bigdata/hdf/netflow_day-*.h5'),['start'], iterative=False)\u001b[0m\u001b[0;34m\u001b[0m\u001b[0;34m\u001b[0m\u001b[0;34m\u001b[0m\u001b[0m\n\u001b[0;32m----> 7\u001b[0;31m \u001b[0ma1\u001b[0m \u001b[0;34m=\u001b[0m \u001b[0mak\u001b[0m\u001b[0;34m.\u001b[0m\u001b[0mread_all\u001b[0m\u001b[0;34m(\u001b[0m\u001b[0mglob\u001b[0m\u001b[0;34m(\u001b[0m\u001b[0mcwd\u001b[0m\u001b[0;34m+\u001b[0m\u001b[0;34m'/../../../bigdata/hdf/netflow_day-*.h5'\u001b[0m\u001b[0;34m)\u001b[0m\u001b[0;34m,\u001b[0m \u001b[0miterative\u001b[0m\u001b[0;34m=\u001b[0m\u001b[0;32mFalse\u001b[0m\u001b[0;34m)\u001b[0m\u001b[0;34m\u001b[0m\u001b[0;34m\u001b[0m\u001b[0m\n\u001b[0m\u001b[1;32m      8\u001b[0m \u001b[0;34m\u001b[0m\u001b[0m\n\u001b[1;32m      9\u001b[0m \u001b[0;31m#a1 = ak.read_all(glob(cwd+'/../../../stringsdata/hdf/netflow_day-*.h5'), 'start', iterative=True)\u001b[0m\u001b[0;34m\u001b[0m\u001b[0;34m\u001b[0m\u001b[0;34m\u001b[0m\u001b[0m\n",
      "\u001b[0;32m~/Documents/professional/employment/20s/2020/DOD20/repos/arkouda/arkouda/pdarrayIO.py\u001b[0m in \u001b[0;36mread_all\u001b[0;34m(filenames, datasets, iterative)\u001b[0m\n\u001b[1;32m    123\u001b[0m         \u001b[0mrep_msg\u001b[0m \u001b[0;34m=\u001b[0m \u001b[0mgeneric_msg\u001b[0m\u001b[0;34m(\u001b[0m\u001b[0;34m\"readAllHdf {:n} {:n} {} | {}\"\u001b[0m\u001b[0;34m.\u001b[0m\u001b[0mformat\u001b[0m\u001b[0;34m(\u001b[0m\u001b[0mlen\u001b[0m\u001b[0;34m(\u001b[0m\u001b[0mdatasets\u001b[0m\u001b[0;34m)\u001b[0m\u001b[0;34m,\u001b[0m \u001b[0mlen\u001b[0m\u001b[0;34m(\u001b[0m\u001b[0mfilenames\u001b[0m\u001b[0;34m)\u001b[0m\u001b[0;34m,\u001b[0m \u001b[0mjson\u001b[0m\u001b[0;34m.\u001b[0m\u001b[0mdumps\u001b[0m\u001b[0;34m(\u001b[0m\u001b[0mdatasets\u001b[0m\u001b[0;34m)\u001b[0m\u001b[0;34m,\u001b[0m \u001b[0mjson\u001b[0m\u001b[0;34m.\u001b[0m\u001b[0mdumps\u001b[0m\u001b[0;34m(\u001b[0m\u001b[0mfilenames\u001b[0m\u001b[0;34m)\u001b[0m\u001b[0;34m)\u001b[0m\u001b[0;34m)\u001b[0m\u001b[0;34m\u001b[0m\u001b[0;34m\u001b[0m\u001b[0m\n\u001b[1;32m    124\u001b[0m         \u001b[0;32mif\u001b[0m \u001b[0;34m'+'\u001b[0m \u001b[0;32min\u001b[0m \u001b[0mrep_msg\u001b[0m\u001b[0;34m:\u001b[0m\u001b[0;34m\u001b[0m\u001b[0;34m\u001b[0m\u001b[0m\n\u001b[0;32m--> 125\u001b[0;31m             \u001b[0;32mreturn\u001b[0m \u001b[0mStrings\u001b[0m\u001b[0;34m(\u001b[0m\u001b[0;34m*\u001b[0m\u001b[0mrep_msg\u001b[0m\u001b[0;34m.\u001b[0m\u001b[0msplit\u001b[0m\u001b[0;34m(\u001b[0m\u001b[0;34m'+'\u001b[0m\u001b[0;34m)\u001b[0m\u001b[0;34m)\u001b[0m\u001b[0;34m\u001b[0m\u001b[0;34m\u001b[0m\u001b[0m\n\u001b[0m\u001b[1;32m    126\u001b[0m         \u001b[0;32melse\u001b[0m\u001b[0;34m:\u001b[0m\u001b[0;34m\u001b[0m\u001b[0;34m\u001b[0m\u001b[0m\n\u001b[1;32m    127\u001b[0m             \u001b[0;32mreturn\u001b[0m \u001b[0mcreate_pdarray\u001b[0m\u001b[0;34m(\u001b[0m\u001b[0mrep_msg\u001b[0m\u001b[0;34m)\u001b[0m\u001b[0;34m\u001b[0m\u001b[0;34m\u001b[0m\u001b[0m\n",
      "\u001b[0;31mTypeError\u001b[0m: __init__() takes 3 positional arguments but 8 were given"
     ]
    }
   ],
   "source": [
    "#a1 = ak.read_all(glob(cwd+'/../../../bigdata/hdf/netflow_day-*.h5'),'start', iterative=True)\n",
    "#a1 = ak.read_all(glob(cwd+'/../../../bigdata/hdf/netflow_day-*.h5'),['start'], iterative=True)\n",
    "#a1 = ak.read_all(glob(cwd+'/../../../bigdata/hdf/netflow_day-*.h5'), iterative=True)\n",
    "\n",
    "#a1 = ak.read_all(glob(cwd+'/../../../bigdata/hdf/netflow_day-*.h5'),'start', iterative=False)\n",
    "#a1 = ak.read_all(glob(cwd+'/../../../bigdata/hdf/netflow_day-*.h5'),['start'], iterative=False)\n",
    "a1 = ak.read_all(glob(cwd+'/../../../bigdata/hdf/netflow_day-*.h5'), iterative=False)\n",
    "\n",
    "#a1 = ak.read_all(glob(cwd+'/../../../stringsdata/hdf/netflow_day-*.h5'), 'start', iterative=True)\n",
    "print(type(a1))"
   ]
  },
  {
   "cell_type": "markdown",
   "metadata": {},
   "source": [
    "#### Test 1S, glob multi files (2 files, ~ total array length), single dataset (native long), iterative false (single arkouda server call)"
   ]
  },
  {
   "cell_type": "code",
   "execution_count": null,
   "metadata": {},
   "outputs": [],
   "source": [
    "a1 = ak.read_all(glob(cwd+'/../../../dataStrings/hdf/netflow_day-*.h5'), 'start', iterative=False)\n",
    "print(type(a1))"
   ]
  },
  {
   "cell_type": "code",
   "execution_count": null,
   "metadata": {
    "ExecuteTime": {
     "end_time": "2020-01-31T18:18:03.272212Z",
     "start_time": "2020-01-31T18:18:03.258544Z"
    }
   },
   "outputs": [],
   "source": [
    "a2 = ak.read_all(glob(cwd+'/../../../data/hdf/netflow_day-1*.h5'),'start', iterative=True)\n",
    "print(type(a2))"
   ]
  },
  {
   "cell_type": "code",
   "execution_count": null,
   "metadata": {
    "ExecuteTime": {
     "end_time": "2020-01-31T17:59:49.665654Z",
     "start_time": "2020-01-31T17:59:49.582231Z"
    }
   },
   "outputs": [],
   "source": [
    "#a = ak.read_all(glob(cwd+'/../../../data/hdf/netflow_day-1*.h5'), ['start', 'duration', 'proto'], False)\n",
    "a = ak.read_all(glob(cwd+'/../../../dataStrings/hdf/netflow_day-*.h5'),iterative=True)\n",
    "#print(type(a))\n",
    "#print(a.to_ndarray())"
   ]
  },
  {
   "cell_type": "code",
   "execution_count": null,
   "metadata": {
    "ExecuteTime": {
     "end_time": "2020-01-23T01:06:32.366448Z",
     "start_time": "2020-01-23T01:06:32.362933Z"
    }
   },
   "outputs": [],
   "source": [
    "ak.shutdown()"
   ]
  },
  {
   "cell_type": "code",
   "execution_count": null,
   "metadata": {},
   "outputs": [],
   "source": []
  }
 ],
 "metadata": {
  "kernelspec": {
   "display_name": "Python 3",
   "language": "python",
   "name": "python3"
  },
  "language_info": {
   "codemirror_mode": {
    "name": "ipython",
    "version": 3
   },
   "file_extension": ".py",
   "mimetype": "text/x-python",
   "name": "python",
   "nbconvert_exporter": "python",
   "pygments_lexer": "ipython3",
   "version": "3.7.4"
  }
 },
 "nbformat": 4,
 "nbformat_minor": 2
}
