{
 "cells": [
  {
   "cell_type": "code",
   "execution_count": 1,
   "metadata": {
    "ExecuteTime": {
     "end_time": "2020-01-21T18:29:46.152957Z",
     "start_time": "2020-01-21T18:29:45.325911Z"
    }
   },
   "outputs": [],
   "source": [
    "import os\n",
    "import pandas as pd\n",
    "from glob import glob\n",
    "import numpy as np\n",
    "import h5py"
   ]
  },
  {
   "cell_type": "code",
   "execution_count": 2,
   "metadata": {
    "ExecuteTime": {
     "end_time": "2020-01-21T18:29:46.163457Z",
     "start_time": "2020-01-21T18:29:46.154333Z"
    }
   },
   "outputs": [
    {
     "data": {
      "text/html": [
       "<style>.container { width:100% !important; }</style>"
      ],
      "text/plain": [
       "<IPython.core.display.HTML object>"
      ]
     },
     "metadata": {},
     "output_type": "display_data"
    }
   ],
   "source": [
    "from IPython.core.display import display, HTML\n",
    "display(HTML(\"<style>.container { width:100% !important; }</style>\"))"
   ]
  },
  {
   "cell_type": "markdown",
   "metadata": {},
   "source": [
    "### Multiple bz2 via glob to csv and hdf5"
   ]
  },
  {
   "cell_type": "code",
   "execution_count": null,
   "metadata": {
    "ExecuteTime": {
     "start_time": "2020-01-21T18:29:45.329Z"
    }
   },
   "outputs": [
    {
     "name": "stdout",
     "output_type": "stream",
     "text": [
      "(215789855, 11)\n",
      "     Time  Duration   SrcDevice        DstDevice  Protocol    SrcPort  \\\n",
      "0  604800         0  Comp479216       Comp275646        17  Port38098   \n",
      "1  604800         0  Comp130715       Comp576031        17  Port03632   \n",
      "2  604800         0  Comp141613       Comp275646        17  Port72359   \n",
      "3  604800         0  Comp357280       Comp017024         6  Port61085   \n",
      "4  604800         0  Comp509586  ActiveDirectory        17  Port52026   \n",
      "\n",
      "     DstPort  SrcPackets  DstPackets  SrcBytes  DstBytes  \n",
      "0         53           1           0        59         0  \n",
      "1        514          15           0      4393         0  \n",
      "2         53           1           0        66         0  \n",
      "3  Port99055           4           2       190        98  \n",
      "4        389           1           0       209         0  \n",
      "(209041450, 11)\n",
      "     Time  Duration   SrcDevice        DstDevice  Protocol    SrcPort DstPort  \\\n",
      "0  691200         0  Comp582498       Comp275646        17  Port24351      53   \n",
      "1  691200         0  Comp328974       Comp275646        17  Port66951      53   \n",
      "2  691200         0  Comp328974       Comp275646        17  Port01578      53   \n",
      "3  691200         0  Comp509586  ActiveDirectory         6  Port24334     389   \n",
      "4  691200         0  Comp509586  ActiveDirectory        17  Port84167      53   \n",
      "\n",
      "   SrcPackets  DstPackets  SrcBytes  DstBytes  \n",
      "0           1           0        59         0  \n",
      "1           1           0        63         0  \n",
      "2           1           0        69         0  \n",
      "3           9           0      2774         0  \n",
      "4           1           0        93         0  \n",
      "(115949435, 11)\n",
      "     Time  Duration   SrcDevice   DstDevice  Protocol    SrcPort DstPort  \\\n",
      "0  118783      6976  Comp450942  Comp829338         6  Port03137     445   \n",
      "1  118785     14178    IP564116  Comp141988        17       5060    5060   \n",
      "2  118785     28147    IP564116  Comp141988        17       5060    5060   \n",
      "3  118785     48507    IP564116  Comp141988        17       5060    5060   \n",
      "4  118785     63173    IP564116  Comp141988        17       5060    5060   \n",
      "\n",
      "   SrcPackets  DstPackets  SrcBytes  DstBytes  \n",
      "0        1665        1108    300810    250408  \n",
      "1        1866           0   1477041         0  \n",
      "2        3326           0   2656305         0  \n",
      "3        5423           0   4388449         0  \n",
      "4        7061           0   5745536         0  \n",
      "(201214608, 11)\n",
      "     Time  Duration   SrcDevice   DstDevice  Protocol    SrcPort    DstPort  \\\n",
      "0  172800         0  Comp817584  Comp275646        17  Port97545         53   \n",
      "1  172800         0  Comp654013  Comp685925         6  Port26890  Port94857   \n",
      "2  172800         0  Comp500631  Comp275646        17  Port62938         53   \n",
      "3  172800         0  Comp500631  Comp275646        17  Port52912         53   \n",
      "4  172800         0  Comp348022  Comp416139         6  Port30357  Port99055   \n",
      "\n",
      "   SrcPackets  DstPackets  SrcBytes  DstBytes  \n",
      "0           1           0        77         0  \n",
      "1           6           5      1379      1770  \n",
      "2           1           0        64         0  \n",
      "3           1           0        64         0  \n",
      "4           4           2       186        94  \n",
      "(181855507, 11)\n",
      "     Time  Duration   SrcDevice        DstDevice  Protocol    SrcPort DstPort  \\\n",
      "0  518400         0  Comp774932       Comp275646        17  Port39243      53   \n",
      "1  518400         0  Comp406017       Comp275646        17  Port42912      53   \n",
      "2  518400         0  Comp509586  ActiveDirectory         6  Port41590     389   \n",
      "3  518400         0  Comp509586  ActiveDirectory         6  Port24825      88   \n",
      "4  518400         0  Comp509586  ActiveDirectory         6  Port14850     389   \n",
      "\n",
      "   SrcPackets  DstPackets  SrcBytes  DstBytes  \n",
      "0           1           0        70         0  \n",
      "1           1           0        63         0  \n",
      "2          11           0      2915         0  \n",
      "3           6           0      1959         0  \n",
      "4          10           0      2826         0  \n"
     ]
    }
   ],
   "source": [
    "bz2 = '../../../data/bz2'\n",
    "#exp=7\n",
    "for file in glob(os.path.join(bz2, 'netflow*.bz2')):\n",
    "    #print (file)\n",
    "    \n",
    "    #reading zip files\n",
    "    #nrows = float('1e'+str(exp))\n",
    "    #print(nrows)\n",
    "    \n",
    "    #differnt number of rows\n",
    "    #nrows = int(str('1e'+str(exp)))\n",
    "    #df = pd.read_csv(file,nrows= nrows)\n",
    "    df = pd.read_csv(file)\n",
    "    #exp=exp+1\n",
    "    df.columns=['Time','Duration','SrcDevice','DstDevice','Protocol','SrcPort','DstPort','SrcPackets','DstPackets','SrcBytes','DstBytes']\n",
    "    s = str(file)\n",
    "    s = s[-18:-4]\n",
    "    csv='../../../data/csv/'+s+'.csv'\n",
    "    hdf='../../../data/hdf/'+s+'.h5'\n",
    "\n",
    "    \n",
    "    # adding String Test Data\n",
    "    \n",
    "    \n",
    "    # unlinking old files\n",
    "    try:\n",
    "        os.unlink(csv)\n",
    "    except FileNotFoundError: \n",
    "        print(csv , 'does not exist')\n",
    "    try:\n",
    "        os.unlink(hdf)\n",
    "    except FileNotFoundError: \n",
    "        print(hdf , 'does not exist')\n",
    "        \n",
    "    print(df.shape)\n",
    "    print(df.head())\n",
    "    \n",
    "    #df to csv\n",
    "    df.to_csv(csv)\n",
    "    \n",
    "    #df to hdf5\n",
    "    #need to work on handeling df columns as individual hdf5 datasets (at the moment to_hdf to creating a single hdf5 group named SrcPackets, which is not useful)\n",
    "    #df[['SrcPackets']].to_hdf(hdf,key='SrcPackets')\n",
    "    hf = h5py.File(hdf, 'w')\n",
    "    hf.create_dataset('Time', data=df['Time'])\n",
    "    hf.create_dataset('Duration', data=df['Duration'])\n",
    "    #hf.create_dataset('SrcDevice', data=df['SrcDevice'])\n",
    "    #hf.create_dataset('DstDevice', data=df['DstDevice'])\n",
    "    hf.create_dataset('Protocol', data=df['Protocol'])\n",
    "    #hf.create_dataset('SrcPort', data=df['SrcPort'])\n",
    "    #hf.create_dataset('DstPort', data=df['DstPort'])\n",
    "    hf.create_dataset('SrcPackets', data=df['SrcPackets'])\n",
    "    hf.create_dataset('DstPackets', data=df['DstPackets'])\n",
    "    hf.create_dataset('SrcBytes', data=df['SrcBytes'])\n",
    "    hf.create_dataset('DstBytes', data=df['DstBytes'])\n",
    "    hf.close()"
   ]
  },
  {
   "cell_type": "code",
   "execution_count": null,
   "metadata": {
    "ExecuteTime": {
     "start_time": "2020-01-21T18:29:45.332Z"
    }
   },
   "outputs": [],
   "source": [
    "df['SrcPackets']"
   ]
  },
  {
   "cell_type": "markdown",
   "metadata": {},
   "source": [
    "### reading and writing HDF5 files in Python"
   ]
  },
  {
   "cell_type": "code",
   "execution_count": null,
   "metadata": {
    "ExecuteTime": {
     "start_time": "2020-01-21T18:29:45.333Z"
    }
   },
   "outputs": [],
   "source": [
    "d1 = np.random.random(size = (1000,20))\n",
    "d2 = np.random.random(size = (1000,200))\n",
    "print(d1.shape, d2.shape)"
   ]
  },
  {
   "cell_type": "code",
   "execution_count": null,
   "metadata": {
    "ExecuteTime": {
     "start_time": "2020-01-21T18:29:45.334Z"
    }
   },
   "outputs": [],
   "source": [
    "hf = h5py.File('data.h5', 'w')"
   ]
  },
  {
   "cell_type": "code",
   "execution_count": null,
   "metadata": {
    "ExecuteTime": {
     "start_time": "2020-01-21T18:29:45.335Z"
    }
   },
   "outputs": [],
   "source": [
    "hf.create_dataset('dataset_1', data=d1)\n",
    "hf.create_dataset('dataset_2', data=d2)"
   ]
  },
  {
   "cell_type": "code",
   "execution_count": null,
   "metadata": {
    "ExecuteTime": {
     "start_time": "2020-01-21T18:29:45.336Z"
    }
   },
   "outputs": [],
   "source": [
    "hf.close()"
   ]
  },
  {
   "cell_type": "code",
   "execution_count": null,
   "metadata": {},
   "outputs": [],
   "source": []
  }
 ],
 "metadata": {
  "kernelspec": {
   "display_name": "Python 3",
   "language": "python",
   "name": "python3"
  },
  "language_info": {
   "codemirror_mode": {
    "name": "ipython",
    "version": 3
   },
   "file_extension": ".py",
   "mimetype": "text/x-python",
   "name": "python",
   "nbconvert_exporter": "python",
   "pygments_lexer": "ipython3",
   "version": "3.7.4"
  }
 },
 "nbformat": 4,
 "nbformat_minor": 2
}
