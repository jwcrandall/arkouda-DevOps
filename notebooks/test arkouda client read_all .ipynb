{
 "cells": [
  {
   "cell_type": "code",
   "execution_count": 1,
   "metadata": {
    "ExecuteTime": {
     "end_time": "2020-02-03T20:40:06.547382Z",
     "start_time": "2020-02-03T20:40:06.124818Z"
    }
   },
   "outputs": [
    {
     "ename": "IndentationError",
     "evalue": "unexpected indent (pdarrayIO.py, line 129)",
     "output_type": "error",
     "traceback": [
      "Traceback \u001b[0;36m(most recent call last)\u001b[0m:\n",
      "  File \u001b[1;32m\"/Users/josephcrandall/anaconda3/lib/python3.7/site-packages/IPython/core/interactiveshell.py\"\u001b[0m, line \u001b[1;32m3326\u001b[0m, in \u001b[1;35mrun_code\u001b[0m\n    exec(code_obj, self.user_global_ns, self.user_ns)\n",
      "  File \u001b[1;32m\"<ipython-input-1-d7ff7c409331>\"\u001b[0m, line \u001b[1;32m2\u001b[0m, in \u001b[1;35m<module>\u001b[0m\n    import arkouda as ak\n",
      "\u001b[0;36m  File \u001b[0;32m\"/Users/josephcrandall/Documents/professional/employment/20s/2020/DOD20/repos/arkouda/arkouda/__init__.py\"\u001b[0;36m, line \u001b[0;32m8\u001b[0;36m, in \u001b[0;35m<module>\u001b[0;36m\u001b[0m\n\u001b[0;31m    from arkouda.pdarrayIO import *\u001b[0m\n",
      "\u001b[0;36m  File \u001b[0;32m\"/Users/josephcrandall/Documents/professional/employment/20s/2020/DOD20/repos/arkouda/arkouda/pdarrayIO.py\"\u001b[0;36m, line \u001b[0;32m129\u001b[0m\n\u001b[0;31m    return Strings(*rm.split('+'))\u001b[0m\n\u001b[0m    ^\u001b[0m\n\u001b[0;31mIndentationError\u001b[0m\u001b[0;31m:\u001b[0m unexpected indent\n"
     ]
    }
   ],
   "source": [
    "import os\n",
    "import arkouda as ak\n",
    "from glob import glob"
   ]
  },
  {
   "cell_type": "code",
   "execution_count": null,
   "metadata": {
    "ExecuteTime": {
     "end_time": "2020-02-03T17:43:30.044183Z",
     "start_time": "2020-02-03T17:43:30.041289Z"
    }
   },
   "outputs": [],
   "source": [
    "print(ak.__file__)"
   ]
  },
  {
   "cell_type": "code",
   "execution_count": null,
   "metadata": {
    "ExecuteTime": {
     "end_time": "2020-02-03T17:43:31.596165Z",
     "start_time": "2020-02-03T17:43:31.590740Z"
    }
   },
   "outputs": [],
   "source": [
    "ak.connect(server='localhost',port='5555')"
   ]
  },
  {
   "cell_type": "code",
   "execution_count": null,
   "metadata": {
    "ExecuteTime": {
     "end_time": "2020-02-03T17:43:34.205543Z",
     "start_time": "2020-02-03T17:43:34.203073Z"
    }
   },
   "outputs": [],
   "source": [
    "cwd = os.getcwd()\n",
    "print(cwd)"
   ]
  },
  {
   "cell_type": "markdown",
   "metadata": {},
   "source": [
    "# read_all arkouda server Iterative I and Single S Tests"
   ]
  },
  {
   "cell_type": "markdown",
   "metadata": {},
   "source": [
    "#### Test 1I, glob multi files (2 files, ~ total array length), single dataset array (native long), iterative true (multiple arkouda server calls)"
   ]
  },
  {
   "cell_type": "code",
   "execution_count": null,
   "metadata": {
    "ExecuteTime": {
     "end_time": "2020-02-02T19:41:57.987874Z",
     "start_time": "2020-02-02T19:39:39.335664Z"
    }
   },
   "outputs": [],
   "source": [
    "#a1 = ak.read_all(glob(cwd+'/../../../bigdata/hdf/netflow_day-*.h5'),'start', iterative=True)\n",
    "#a1 = ak.read_all(glob(cwd+'/../../../bigdata/hdf/netflow_day-*.h5'),['start'], iterative=True)\n",
    "#pdArrayDictionary = ak.read_all(glob(cwd+'/../../../bigdata/hdf/netflow_day-1*.h5'), ['start', 'duration'], iterative=True)\n",
    "pdArrayDictionary = ak.read_all(glob(cwd+'/../../../bigdata/hdf/netflow_day-*.h5'), iterative=True)"
   ]
  },
  {
   "cell_type": "code",
   "execution_count": null,
   "metadata": {
    "ExecuteTime": {
     "end_time": "2020-02-02T17:38:33.982381Z",
     "start_time": "2020-02-02T17:38:33.979080Z"
    }
   },
   "outputs": [],
   "source": [
    "for key, value in pdArrayDictionary.items():\n",
    "    print(key,type(value))"
   ]
  },
  {
   "cell_type": "code",
   "execution_count": null,
   "metadata": {
    "ExecuteTime": {
     "end_time": "2020-02-02T17:13:18.746064Z",
     "start_time": "2020-02-02T17:13:18.742566Z"
    }
   },
   "outputs": [],
   "source": [
    "print(type(pdArrayDictionary))"
   ]
  },
  {
   "cell_type": "code",
   "execution_count": null,
   "metadata": {
    "ExecuteTime": {
     "end_time": "2020-02-02T19:38:32.207501Z",
     "start_time": "2020-02-02T19:36:25.144207Z"
    }
   },
   "outputs": [],
   "source": [
    "#a1 = ak.read_all(glob(cwd+'/../../../bigdata/hdf/netflow_day-*.h5'),'start', iterative=False)\n",
    "#a1 = ak.read_all(glob(cwd+'/../../../bigdata/hdf/netflow_day-*.h5'),['start'], iterative=False)\n",
    "pdArrayDictionary2 = ak.read_all(glob(cwd+'/../../../bigdata/hdf/netflow_day-*.h5'), iterative=False)"
   ]
  },
  {
   "cell_type": "code",
   "execution_count": null,
   "metadata": {
    "ExecuteTime": {
     "end_time": "2020-02-02T19:38:51.403436Z",
     "start_time": "2020-02-02T19:38:51.398098Z"
    }
   },
   "outputs": [],
   "source": [
    "print(type(pdArrayDictionary2))\n",
    "for key, value in pdArrayDictionary2.items():\n",
    "    print(key,type(value))"
   ]
  },
  {
   "cell_type": "code",
   "execution_count": null,
   "metadata": {
    "ExecuteTime": {
     "end_time": "2020-02-02T21:48:18.879623Z",
     "start_time": "2020-02-02T21:48:16.410083Z"
    }
   },
   "outputs": [],
   "source": [
    "pdArray1 = ak.read_all(glob(cwd+'/../../../stringdata/hdf/netflow_day-1*.hdf'),'start', iterative=False)\n",
    "print(type(pdArray1))"
   ]
  },
  {
   "cell_type": "code",
   "execution_count": null,
   "metadata": {
    "ExecuteTime": {
     "end_time": "2020-02-02T21:59:20.369242Z",
     "start_time": "2020-02-02T21:51:04.322822Z"
    }
   },
   "outputs": [],
   "source": [
    "pdArrayDictionary3 = ak.read_all(glob(cwd+'/../../../stringdata/hdf/netflow_day-*.hdf'), iterative=False)"
   ]
  },
  {
   "cell_type": "code",
   "execution_count": null,
   "metadata": {
    "ExecuteTime": {
     "end_time": "2020-02-02T22:00:07.113529Z",
     "start_time": "2020-02-02T22:00:07.091353Z"
    }
   },
   "outputs": [],
   "source": [
    "print(type(pdArrayDictionary3))\n",
    "for key, value in pdArrayDictionary3.items():\n",
    "    print(key,type(value))"
   ]
  },
  {
   "cell_type": "code",
   "execution_count": null,
   "metadata": {
    "ExecuteTime": {
     "end_time": "2020-02-03T17:51:41.906275Z",
     "start_time": "2020-02-03T17:43:39.205112Z"
    }
   },
   "outputs": [],
   "source": [
    "pdArrayDictionary4 = ak.read_all(glob(cwd+'/../../../stringdata/hdf/netflow_day-*.hdf'))"
   ]
  },
  {
   "cell_type": "code",
   "execution_count": null,
   "metadata": {
    "ExecuteTime": {
     "end_time": "2020-02-03T17:51:48.438618Z",
     "start_time": "2020-02-03T17:51:48.431261Z"
    }
   },
   "outputs": [],
   "source": [
    "print(type(pdArrayDictionary4))\n",
    "for key, value in pdArrayDictionary4.items():\n",
    "    print(key,type(value))"
   ]
  },
  {
   "cell_type": "markdown",
   "metadata": {},
   "source": [
    "#### Test 1S, glob multi files (2 files, ~ total array length), single dataset (native long), iterative false (single arkouda server call)"
   ]
  },
  {
   "cell_type": "code",
   "execution_count": null,
   "metadata": {},
   "outputs": [],
   "source": [
    "a1 = ak.read_all(glob(cwd+'/../../../dataStrings/hdf/netflow_day-*.h5'), 'start', iterative=False)\n",
    "print(type(a1))"
   ]
  },
  {
   "cell_type": "code",
   "execution_count": null,
   "metadata": {
    "ExecuteTime": {
     "end_time": "2020-01-31T18:18:03.272212Z",
     "start_time": "2020-01-31T18:18:03.258544Z"
    }
   },
   "outputs": [],
   "source": [
    "a2 = ak.read_all(glob(cwd+'/../../../data/hdf/netflow_day-1*.h5'),'start', iterative=True)\n",
    "print(type(a2))"
   ]
  },
  {
   "cell_type": "code",
   "execution_count": null,
   "metadata": {
    "ExecuteTime": {
     "end_time": "2020-01-31T17:59:49.665654Z",
     "start_time": "2020-01-31T17:59:49.582231Z"
    }
   },
   "outputs": [],
   "source": [
    "#a = ak.read_all(glob(cwd+'/../../../data/hdf/netflow_day-1*.h5'), ['start', 'duration', 'proto'], False)\n",
    "a = ak.read_all(glob(cwd+'/../../../dataStrings/hdf/netflow_day-*.h5'),iterative=True)\n",
    "#print(type(a))\n",
    "#print(a.to_ndarray())"
   ]
  },
  {
   "cell_type": "code",
   "execution_count": null,
   "metadata": {
    "ExecuteTime": {
     "end_time": "2020-02-03T17:53:28.652121Z",
     "start_time": "2020-02-03T17:53:28.644693Z"
    }
   },
   "outputs": [],
   "source": [
    "ak.shutdown()"
   ]
  },
  {
   "cell_type": "code",
   "execution_count": null,
   "metadata": {},
   "outputs": [],
   "source": []
  }
 ],
 "metadata": {
  "kernelspec": {
   "display_name": "Python 3",
   "language": "python",
   "name": "python3"
  },
  "language_info": {
   "codemirror_mode": {
    "name": "ipython",
    "version": 3
   },
   "file_extension": ".py",
   "mimetype": "text/x-python",
   "name": "python",
   "nbconvert_exporter": "python",
   "pygments_lexer": "ipython3",
   "version": "3.7.4"
  }
 },
 "nbformat": 4,
 "nbformat_minor": 2
}
