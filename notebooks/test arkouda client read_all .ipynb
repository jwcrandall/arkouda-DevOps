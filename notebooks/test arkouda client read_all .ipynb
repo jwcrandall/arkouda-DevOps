{
 "cells": [
  {
   "cell_type": "code",
   "execution_count": 1,
   "metadata": {
    "ExecuteTime": {
     "end_time": "2020-02-03T17:43:28.804161Z",
     "start_time": "2020-02-03T17:43:28.210638Z"
    }
   },
   "outputs": [],
   "source": [
    "import os\n",
    "import arkouda as ak\n",
    "from glob import glob"
   ]
  },
  {
   "cell_type": "code",
   "execution_count": 2,
   "metadata": {
    "ExecuteTime": {
     "end_time": "2020-02-03T17:43:30.044183Z",
     "start_time": "2020-02-03T17:43:30.041289Z"
    }
   },
   "outputs": [
    {
     "name": "stdout",
     "output_type": "stream",
     "text": [
      "/Users/josephcrandall/Documents/professional/employment/20s/2020/DOD20/repos/arkouda/arkouda/__init__.py\n"
     ]
    }
   ],
   "source": [
    "print(ak.__file__)"
   ]
  },
  {
   "cell_type": "code",
   "execution_count": 3,
   "metadata": {
    "ExecuteTime": {
     "end_time": "2020-02-03T17:43:31.596165Z",
     "start_time": "2020-02-03T17:43:31.590740Z"
    }
   },
   "outputs": [
    {
     "name": "stdout",
     "output_type": "stream",
     "text": [
      "ZMQ version: 4.3.1\n",
      "psp =  tcp://localhost:5555\n",
      "[Python] Sending request: connect\n",
      "[Python] Received response: connected to arkouda server tcp://*:5555\n",
      "connected to arkouda server tcp://*:5555\n",
      "[Python] Sending request: getconfig\n",
      "[Python] Received response: {\"arkoudaVersion\":\"2019.12.12\", \"ZMQVersion\":\"4.3.2\", \"HDF5Version\":\"1.10.5\", \"serverHostname\":\"MacBook-Pro-75.local\", \"ServerPort\":5555, \"numLocales\":1, \"numPUs\":8, \"maxTaskPar\":8, \"physicalMemory\":68719476736, \"distributionType\":\"BlockDom(1,int(64),false,unmanaged DefaultDist)\", \"LocaleConfigs\":[{\"id\":0, \"name\":\"MacBook-Pro-75.local\", \"numPUs\":8, \"maxTaskPar\":8, \"physicalMemory\":68719476736}]}\n",
      "{\"arkoudaVersion\":\"2019.12.12\", \"ZMQVersion\":\"4.3.2\", \"HDF5Version\":\"1.10.5\", \"serverHostname\":\"MacBook-Pro-75.local\", \"ServerPort\":5555, \"numLocales\":1, \"numPUs\":8, \"maxTaskPar\":8, \"physicalMemory\":68719476736, \"distributionType\":\"BlockDom(1,int(64),false,unmanaged DefaultDist)\", \"LocaleConfigs\":[{\"id\":0, \"name\":\"MacBook-Pro-75.local\", \"numPUs\":8, \"maxTaskPar\":8, \"physicalMemory\":68719476736}]}\n"
     ]
    }
   ],
   "source": [
    "ak.connect(server='localhost',port='5555')"
   ]
  },
  {
   "cell_type": "code",
   "execution_count": 4,
   "metadata": {
    "ExecuteTime": {
     "end_time": "2020-02-03T17:43:34.205543Z",
     "start_time": "2020-02-03T17:43:34.203073Z"
    }
   },
   "outputs": [
    {
     "name": "stdout",
     "output_type": "stream",
     "text": [
      "/Users/josephcrandall/Documents/professional/employment/20s/2020/DOD20/repos/arkouda-DevOps/notebooks\n"
     ]
    }
   ],
   "source": [
    "cwd = os.getcwd()\n",
    "print(cwd)"
   ]
  },
  {
   "cell_type": "markdown",
   "metadata": {},
   "source": [
    "# read_all arkouda server Iterative I and Single S Tests"
   ]
  },
  {
   "cell_type": "markdown",
   "metadata": {},
   "source": [
    "#### Test 1I, glob multi files (2 files, ~ total array length), single dataset array (native long), iterative true (multiple arkouda server calls)"
   ]
  },
  {
   "cell_type": "code",
   "execution_count": null,
   "metadata": {
    "ExecuteTime": {
     "end_time": "2020-02-02T19:41:57.987874Z",
     "start_time": "2020-02-02T19:39:39.335664Z"
    }
   },
   "outputs": [],
   "source": [
    "#a1 = ak.read_all(glob(cwd+'/../../../bigdata/hdf/netflow_day-*.h5'),'start', iterative=True)\n",
    "#a1 = ak.read_all(glob(cwd+'/../../../bigdata/hdf/netflow_day-*.h5'),['start'], iterative=True)\n",
    "#pdArrayDictionary = ak.read_all(glob(cwd+'/../../../bigdata/hdf/netflow_day-1*.h5'), ['start', 'duration'], iterative=True)\n",
    "pdArrayDictionary = ak.read_all(glob(cwd+'/../../../bigdata/hdf/netflow_day-*.h5'), iterative=True)"
   ]
  },
  {
   "cell_type": "code",
   "execution_count": null,
   "metadata": {
    "ExecuteTime": {
     "end_time": "2020-02-02T17:38:33.982381Z",
     "start_time": "2020-02-02T17:38:33.979080Z"
    }
   },
   "outputs": [],
   "source": [
    "for key, value in pdArrayDictionary.items():\n",
    "    print(key,type(value))"
   ]
  },
  {
   "cell_type": "code",
   "execution_count": null,
   "metadata": {
    "ExecuteTime": {
     "end_time": "2020-02-02T17:13:18.746064Z",
     "start_time": "2020-02-02T17:13:18.742566Z"
    }
   },
   "outputs": [],
   "source": [
    "print(type(pdArrayDictionary))"
   ]
  },
  {
   "cell_type": "code",
   "execution_count": null,
   "metadata": {
    "ExecuteTime": {
     "end_time": "2020-02-02T19:38:32.207501Z",
     "start_time": "2020-02-02T19:36:25.144207Z"
    }
   },
   "outputs": [],
   "source": [
    "#a1 = ak.read_all(glob(cwd+'/../../../bigdata/hdf/netflow_day-*.h5'),'start', iterative=False)\n",
    "#a1 = ak.read_all(glob(cwd+'/../../../bigdata/hdf/netflow_day-*.h5'),['start'], iterative=False)\n",
    "pdArrayDictionary2 = ak.read_all(glob(cwd+'/../../../bigdata/hdf/netflow_day-*.h5'), iterative=False)"
   ]
  },
  {
   "cell_type": "code",
   "execution_count": null,
   "metadata": {
    "ExecuteTime": {
     "end_time": "2020-02-02T19:38:51.403436Z",
     "start_time": "2020-02-02T19:38:51.398098Z"
    }
   },
   "outputs": [],
   "source": [
    "print(type(pdArrayDictionary2))\n",
    "for key, value in pdArrayDictionary2.items():\n",
    "    print(key,type(value))"
   ]
  },
  {
   "cell_type": "code",
   "execution_count": null,
   "metadata": {
    "ExecuteTime": {
     "end_time": "2020-02-02T21:48:18.879623Z",
     "start_time": "2020-02-02T21:48:16.410083Z"
    }
   },
   "outputs": [],
   "source": [
    "pdArray1 = ak.read_all(glob(cwd+'/../../../stringdata/hdf/netflow_day-1*.hdf'),'start', iterative=False)\n",
    "print(type(pdArray1))"
   ]
  },
  {
   "cell_type": "code",
   "execution_count": null,
   "metadata": {
    "ExecuteTime": {
     "end_time": "2020-02-02T21:59:20.369242Z",
     "start_time": "2020-02-02T21:51:04.322822Z"
    }
   },
   "outputs": [],
   "source": [
    "pdArrayDictionary3 = ak.read_all(glob(cwd+'/../../../stringdata/hdf/netflow_day-*.hdf'), iterative=False)"
   ]
  },
  {
   "cell_type": "code",
   "execution_count": null,
   "metadata": {
    "ExecuteTime": {
     "end_time": "2020-02-02T22:00:07.113529Z",
     "start_time": "2020-02-02T22:00:07.091353Z"
    }
   },
   "outputs": [],
   "source": [
    "print(type(pdArrayDictionary3))\n",
    "for key, value in pdArrayDictionary3.items():\n",
    "    print(key,type(value))"
   ]
  },
  {
   "cell_type": "code",
   "execution_count": 5,
   "metadata": {
    "ExecuteTime": {
     "end_time": "2020-02-03T17:51:41.906275Z",
     "start_time": "2020-02-03T17:43:39.205112Z"
    }
   },
   "outputs": [
    {
     "name": "stdout",
     "output_type": "stream",
     "text": [
      "None\n",
      "[Python] Sending request: lshdf [\"/Users/josephcrandall/Documents/professional/employment/20s/2020/DOD20/repos/arkouda-DevOps/notebooks/../../../stringdata/hdf/netflow_day-08.hdf\"]\n",
      "[Python] Received response: dstBytes                 Dataset {215789856}\n",
      "dstIP                    Group\n",
      "dstPkts                  Dataset {215789856}\n",
      "dstPort                  Dataset {215789856}\n",
      "duration                 Dataset {215789856}\n",
      "proto                    Dataset {215789856}\n",
      "srcBytes                 Dataset {215789856}\n",
      "srcIP                    Group\n",
      "srcPkts                  Dataset {215789856}\n",
      "srcPort                  Dataset {215789856}\n",
      "start                    Dataset {215789856}\n",
      "\n",
      "dstBytes                 Dataset {215789856}\n",
      "dstIP                    Group\n",
      "dstPkts                  Dataset {215789856}\n",
      "dstPort                  Dataset {215789856}\n",
      "duration                 Dataset {215789856}\n",
      "proto                    Dataset {215789856}\n",
      "srcBytes                 Dataset {215789856}\n",
      "srcIP                    Group\n",
      "srcPkts                  Dataset {215789856}\n",
      "srcPort                  Dataset {215789856}\n",
      "start                    Dataset {215789856}\n",
      "\n",
      "[Python] Sending request: lshdf [\"/Users/josephcrandall/Documents/professional/employment/20s/2020/DOD20/repos/arkouda-DevOps/notebooks/../../../stringdata/hdf/netflow_day-08.hdf\"]\n",
      "[Python] Received response: dstBytes                 Dataset {215789856}\n",
      "dstIP                    Group\n",
      "dstPkts                  Dataset {215789856}\n",
      "dstPort                  Dataset {215789856}\n",
      "duration                 Dataset {215789856}\n",
      "proto                    Dataset {215789856}\n",
      "srcBytes                 Dataset {215789856}\n",
      "srcIP                    Group\n",
      "srcPkts                  Dataset {215789856}\n",
      "srcPort                  Dataset {215789856}\n",
      "start                    Dataset {215789856}\n",
      "\n",
      "dstBytes                 Dataset {215789856}\n",
      "dstIP                    Group\n",
      "dstPkts                  Dataset {215789856}\n",
      "dstPort                  Dataset {215789856}\n",
      "duration                 Dataset {215789856}\n",
      "proto                    Dataset {215789856}\n",
      "srcBytes                 Dataset {215789856}\n",
      "srcIP                    Group\n",
      "srcPkts                  Dataset {215789856}\n",
      "srcPort                  Dataset {215789856}\n",
      "start                    Dataset {215789856}\n",
      "\n",
      "[Python] Sending request: readAllHdf 11 10 [\"dstBytes\", \"dstIP\", \"dstPkts\", \"dstPort\", \"duration\", \"proto\", \"srcBytes\", \"srcIP\", \"srcPkts\", \"srcPort\", \"start\"] | [\"/Users/josephcrandall/Documents/professional/employment/20s/2020/DOD20/repos/arkouda-DevOps/notebooks/../../../stringdata/hdf/netflow_day-08.hdf\", \"/Users/josephcrandall/Documents/professional/employment/20s/2020/DOD20/repos/arkouda-DevOps/notebooks/../../../stringdata/hdf/netflow_day-09.hdf\", \"/Users/josephcrandall/Documents/professional/employment/20s/2020/DOD20/repos/arkouda-DevOps/notebooks/../../../stringdata/hdf/netflow_day-07.hdf\", \"/Users/josephcrandall/Documents/professional/employment/20s/2020/DOD20/repos/arkouda-DevOps/notebooks/../../../stringdata/hdf/netflow_day-06.hdf\", \"/Users/josephcrandall/Documents/professional/employment/20s/2020/DOD20/repos/arkouda-DevOps/notebooks/../../../stringdata/hdf/netflow_day-04.hdf\", \"/Users/josephcrandall/Documents/professional/employment/20s/2020/DOD20/repos/arkouda-DevOps/notebooks/../../../stringdata/hdf/netflow_day-10.hdf\", \"/Users/josephcrandall/Documents/professional/employment/20s/2020/DOD20/repos/arkouda-DevOps/notebooks/../../../stringdata/hdf/netflow_day-11.hdf\", \"/Users/josephcrandall/Documents/professional/employment/20s/2020/DOD20/repos/arkouda-DevOps/notebooks/../../../stringdata/hdf/netflow_day-05.hdf\", \"/Users/josephcrandall/Documents/professional/employment/20s/2020/DOD20/repos/arkouda-DevOps/notebooks/../../../stringdata/hdf/netflow_day-02.hdf\", \"/Users/josephcrandall/Documents/professional/employment/20s/2020/DOD20/repos/arkouda-DevOps/notebooks/../../../stringdata/hdf/netflow_day-03.hdf\"]\n",
      "[Python] Received response: created id_1 float64 2017684463 1 (2017684463) 8 , created id_2 int64 2017684463 1 (2017684463) 8 +created id_3 uint8 23653108744 1 (23653108744) 1 , created id_4 int64 2017684463 1 (2017684463) 8 , created id_5 int64 2017684463 1 (2017684463) 8 , created id_6 int64 2017684463 1 (2017684463) 8 , created id_7 int64 2017684463 1 (2017684463) 8 , created id_8 float64 2017684463 1 (2017684463) 8 , created id_9 int64 2017684463 1 (2017684463) 8 +created id_10 uint8 22364522195 1 (22364522195) 1 , created id_11 int64 2017684463 1 (2017684463) 8 , created id_12 int64 2017684463 1 (2017684463) 8 , created id_13 int64 2017684463 1 (2017684463) 8\n",
      "created id_1 float64 2017684463 1 (2017684463) 8 , created id_2 int64 2017684463 1 (2017684463) 8 +created id_3 uint8 23653108744 1 (23653108744) 1 , created id_4 int64 2017684463 1 (2017684463) 8 , created id_5 int64 2017684463 1 (2017684463) 8 , created id_6 int64 2017684463 1 (2017684463) 8 , created id_7 int64 2017684463 1 (2017684463) 8 , created id_8 float64 2017684463 1 (2017684463) 8 , created id_9 int64 2017684463 1 (2017684463) 8 +created id_10 uint8 22364522195 1 (22364522195) 1 , created id_11 int64 2017684463 1 (2017684463) 8 , created id_12 int64 2017684463 1 (2017684463) 8 , created id_13 int64 2017684463 1 (2017684463) 8\n",
      "id_1 float64 2017684463 1 [2017684463] 8\n",
      "id_2 int64 2017684463 1 [2017684463] 8\n",
      "id_4 int64 2017684463 1 [2017684463] 8\n",
      "id_5 int64 2017684463 1 [2017684463] 8\n",
      "id_6 int64 2017684463 1 [2017684463] 8\n",
      "id_7 int64 2017684463 1 [2017684463] 8\n",
      "id_8 float64 2017684463 1 [2017684463] 8\n",
      "id_9 int64 2017684463 1 [2017684463] 8\n",
      "id_11 int64 2017684463 1 [2017684463] 8\n",
      "id_12 int64 2017684463 1 [2017684463] 8\n",
      "id_13 int64 2017684463 1 [2017684463] 8\n"
     ]
    }
   ],
   "source": [
    "pdArrayDictionary4 = ak.read_all(glob(cwd+'/../../../stringdata/hdf/netflow_day-*.hdf'))"
   ]
  },
  {
   "cell_type": "code",
   "execution_count": 6,
   "metadata": {
    "ExecuteTime": {
     "end_time": "2020-02-03T17:51:48.438618Z",
     "start_time": "2020-02-03T17:51:48.431261Z"
    }
   },
   "outputs": [
    {
     "name": "stdout",
     "output_type": "stream",
     "text": [
      "<class 'dict'>\n",
      "dstBytes <class 'arkouda.pdarrayclass.pdarray'>\n",
      "dstIP <class 'arkouda.pdarrayclass.pdarray'>\n",
      "dstPkts <class 'arkouda.pdarrayclass.pdarray'>\n",
      "dstPort <class 'arkouda.pdarrayclass.pdarray'>\n",
      "duration <class 'arkouda.pdarrayclass.pdarray'>\n",
      "proto <class 'arkouda.pdarrayclass.pdarray'>\n",
      "srcBytes <class 'arkouda.pdarrayclass.pdarray'>\n",
      "srcIP <class 'arkouda.pdarrayclass.pdarray'>\n",
      "srcPkts <class 'arkouda.pdarrayclass.pdarray'>\n",
      "srcPort <class 'arkouda.pdarrayclass.pdarray'>\n",
      "start <class 'arkouda.pdarrayclass.pdarray'>\n"
     ]
    }
   ],
   "source": [
    "print(type(pdArrayDictionary4))\n",
    "for key, value in pdArrayDictionary4.items():\n",
    "    print(key,type(value))"
   ]
  },
  {
   "cell_type": "markdown",
   "metadata": {},
   "source": [
    "#### Test 1S, glob multi files (2 files, ~ total array length), single dataset (native long), iterative false (single arkouda server call)"
   ]
  },
  {
   "cell_type": "code",
   "execution_count": null,
   "metadata": {},
   "outputs": [],
   "source": [
    "a1 = ak.read_all(glob(cwd+'/../../../dataStrings/hdf/netflow_day-*.h5'), 'start', iterative=False)\n",
    "print(type(a1))"
   ]
  },
  {
   "cell_type": "code",
   "execution_count": null,
   "metadata": {
    "ExecuteTime": {
     "end_time": "2020-01-31T18:18:03.272212Z",
     "start_time": "2020-01-31T18:18:03.258544Z"
    }
   },
   "outputs": [],
   "source": [
    "a2 = ak.read_all(glob(cwd+'/../../../data/hdf/netflow_day-1*.h5'),'start', iterative=True)\n",
    "print(type(a2))"
   ]
  },
  {
   "cell_type": "code",
   "execution_count": null,
   "metadata": {
    "ExecuteTime": {
     "end_time": "2020-01-31T17:59:49.665654Z",
     "start_time": "2020-01-31T17:59:49.582231Z"
    }
   },
   "outputs": [],
   "source": [
    "#a = ak.read_all(glob(cwd+'/../../../data/hdf/netflow_day-1*.h5'), ['start', 'duration', 'proto'], False)\n",
    "a = ak.read_all(glob(cwd+'/../../../dataStrings/hdf/netflow_day-*.h5'),iterative=True)\n",
    "#print(type(a))\n",
    "#print(a.to_ndarray())"
   ]
  },
  {
   "cell_type": "code",
   "execution_count": 7,
   "metadata": {
    "ExecuteTime": {
     "end_time": "2020-02-03T17:53:28.652121Z",
     "start_time": "2020-02-03T17:53:28.644693Z"
    }
   },
   "outputs": [
    {
     "name": "stdout",
     "output_type": "stream",
     "text": [
      "[Python] Sending request: shutdown\n",
      "[Python] Received response: shutdown server (6 req)\n",
      "shutdown server (6 req)\n"
     ]
    }
   ],
   "source": [
    "ak.shutdown()"
   ]
  },
  {
   "cell_type": "code",
   "execution_count": null,
   "metadata": {},
   "outputs": [],
   "source": []
  }
 ],
 "metadata": {
  "kernelspec": {
   "display_name": "Python 3",
   "language": "python",
   "name": "python3"
  },
  "language_info": {
   "codemirror_mode": {
    "name": "ipython",
    "version": 3
   },
   "file_extension": ".py",
   "mimetype": "text/x-python",
   "name": "python",
   "nbconvert_exporter": "python",
   "pygments_lexer": "ipython3",
   "version": "3.7.4"
  }
 },
 "nbformat": 4,
 "nbformat_minor": 2
}
