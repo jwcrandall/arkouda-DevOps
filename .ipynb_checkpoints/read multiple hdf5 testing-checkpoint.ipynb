{
 "cells": [
  {
   "cell_type": "code",
   "execution_count": 35,
   "metadata": {
    "ExecuteTime": {
     "end_time": "2019-12-02T16:20:19.232856Z",
     "start_time": "2019-12-02T16:20:19.226660Z"
    }
   },
   "outputs": [],
   "source": [
    "import h5py\n",
    "import tables\n",
    "import numpy as np\n",
    "import pandas as pd\n",
    "import sys\n",
    "import os\n",
    "import bz2\n",
    "import math\n",
    "import arkouda as ak\n",
    "import timeit\n",
    "from glob import glob\n",
    "from decimal import Decimal"
   ]
  },
  {
   "cell_type": "code",
   "execution_count": 2,
   "metadata": {
    "ExecuteTime": {
     "end_time": "2019-12-02T13:26:33.378195Z",
     "start_time": "2019-12-02T13:26:33.365570Z"
    }
   },
   "outputs": [
    {
     "name": "stdout",
     "output_type": "stream",
     "text": [
      "4.3.2\n",
      "psp =  tcp://localhost:5555\n",
      "connected to tcp://localhost:5555\n"
     ]
    }
   ],
   "source": [
    "ak.connect(server='localhost',port='5555')"
   ]
  },
  {
   "cell_type": "code",
   "execution_count": 30,
   "metadata": {
    "ExecuteTime": {
     "end_time": "2019-12-02T16:07:54.199614Z",
     "start_time": "2019-12-02T15:59:11.920984Z"
    }
   },
   "outputs": [
    {
     "data": {
      "text/html": [
       "<div>\n",
       "<style scoped>\n",
       "    .dataframe tbody tr th:only-of-type {\n",
       "        vertical-align: middle;\n",
       "    }\n",
       "\n",
       "    .dataframe tbody tr th {\n",
       "        vertical-align: top;\n",
       "    }\n",
       "\n",
       "    .dataframe thead th {\n",
       "        text-align: right;\n",
       "    }\n",
       "</style>\n",
       "<table border=\"1\" class=\"dataframe\">\n",
       "  <thead>\n",
       "    <tr style=\"text-align: right;\">\n",
       "      <th></th>\n",
       "      <th>Time</th>\n",
       "      <th>Duration</th>\n",
       "      <th>SrcDevice</th>\n",
       "      <th>DstDevice</th>\n",
       "      <th>Protocol</th>\n",
       "      <th>SrcPort</th>\n",
       "      <th>DstPort</th>\n",
       "      <th>SrcPackets</th>\n",
       "      <th>DstPackets</th>\n",
       "      <th>SrcBytes</th>\n",
       "      <th>DstBytes</th>\n",
       "    </tr>\n",
       "  </thead>\n",
       "  <tbody>\n",
       "    <tr>\n",
       "      <th>0</th>\n",
       "      <td>345600</td>\n",
       "      <td>0</td>\n",
       "      <td>Comp950882</td>\n",
       "      <td>Comp387111</td>\n",
       "      <td>17</td>\n",
       "      <td>Port51715</td>\n",
       "      <td>53</td>\n",
       "      <td>1</td>\n",
       "      <td>0</td>\n",
       "      <td>64</td>\n",
       "      <td>0</td>\n",
       "    </tr>\n",
       "    <tr>\n",
       "      <th>1</th>\n",
       "      <td>345600</td>\n",
       "      <td>0</td>\n",
       "      <td>Comp158520</td>\n",
       "      <td>Comp576031</td>\n",
       "      <td>17</td>\n",
       "      <td>Port29380</td>\n",
       "      <td>514</td>\n",
       "      <td>5</td>\n",
       "      <td>0</td>\n",
       "      <td>3272</td>\n",
       "      <td>0</td>\n",
       "    </tr>\n",
       "    <tr>\n",
       "      <th>2</th>\n",
       "      <td>345600</td>\n",
       "      <td>0</td>\n",
       "      <td>Comp523808</td>\n",
       "      <td>Comp343771</td>\n",
       "      <td>17</td>\n",
       "      <td>Port62088</td>\n",
       "      <td>53</td>\n",
       "      <td>1</td>\n",
       "      <td>1</td>\n",
       "      <td>59</td>\n",
       "      <td>59</td>\n",
       "    </tr>\n",
       "    <tr>\n",
       "      <th>3</th>\n",
       "      <td>345600</td>\n",
       "      <td>0</td>\n",
       "      <td>Comp523808</td>\n",
       "      <td>Comp705605</td>\n",
       "      <td>17</td>\n",
       "      <td>Port62088</td>\n",
       "      <td>53</td>\n",
       "      <td>1</td>\n",
       "      <td>1</td>\n",
       "      <td>59</td>\n",
       "      <td>59</td>\n",
       "    </tr>\n",
       "    <tr>\n",
       "      <th>4</th>\n",
       "      <td>345600</td>\n",
       "      <td>0</td>\n",
       "      <td>Comp523808</td>\n",
       "      <td>Comp225307</td>\n",
       "      <td>17</td>\n",
       "      <td>Port62088</td>\n",
       "      <td>53</td>\n",
       "      <td>1</td>\n",
       "      <td>1</td>\n",
       "      <td>59</td>\n",
       "      <td>59</td>\n",
       "    </tr>\n",
       "  </tbody>\n",
       "</table>\n",
       "</div>"
      ],
      "text/plain": [
       "     Time  Duration   SrcDevice   DstDevice  Protocol    SrcPort DstPort  \\\n",
       "0  345600         0  Comp950882  Comp387111        17  Port51715      53   \n",
       "1  345600         0  Comp158520  Comp576031        17  Port29380     514   \n",
       "2  345600         0  Comp523808  Comp343771        17  Port62088      53   \n",
       "3  345600         0  Comp523808  Comp705605        17  Port62088      53   \n",
       "4  345600         0  Comp523808  Comp225307        17  Port62088      53   \n",
       "\n",
       "   SrcPackets  DstPackets  SrcBytes  DstBytes  \n",
       "0           1           0        64         0  \n",
       "1           5           0      3272         0  \n",
       "2           1           1        59        59  \n",
       "3           1           1        59        59  \n",
       "4           1           1        59        59  "
      ]
     },
     "execution_count": 30,
     "metadata": {},
     "output_type": "execute_result"
    }
   ],
   "source": [
    "#print(os.getcwd())\n",
    "data = bz2.open(\"../../data/bz2/netflow_day-05.bz2\")\n",
    "df = pd.read_csv(data)\n",
    "#Following line writes over the first row of data\n",
    "df.columns=['Time','Duration','SrcDevice','DstDevice','Protocol','SrcPort','DstPort','SrcPackets','DstPackets','SrcBytes','DstBytes']\n",
    "df.head()"
   ]
  },
  {
   "cell_type": "code",
   "execution_count": 31,
   "metadata": {
    "ExecuteTime": {
     "end_time": "2019-12-02T16:10:09.205246Z",
     "start_time": "2019-12-02T16:10:09.198396Z"
    }
   },
   "outputs": [],
   "source": [
    "millnames = ['',' Thousand',' Million', ' Billion', ' Trillion', 'Quadrillion']\n",
    "def millify(n):\n",
    "    n=float(n)\n",
    "    millidx=max(0,min(len(millnames)-1,\n",
    "                     int(math.floor(0 if n == 0 else math.log10(abs(n))/3))))\n",
    "    return '{:.0f}{}'.format(n/10**(3*millidx), millnames[millidx])"
   ]
  },
  {
   "cell_type": "code",
   "execution_count": 32,
   "metadata": {
    "ExecuteTime": {
     "end_time": "2019-12-02T16:10:11.113593Z",
     "start_time": "2019-12-02T16:10:11.108852Z"
    }
   },
   "outputs": [
    {
     "name": "stdout",
     "output_type": "stream",
     "text": [
      "199 Million, 11\n"
     ]
    }
   ],
   "source": [
    "#df = pd.DataFrame(data.values,columns=['Time','Duration','SrcDevice','DstDevice','Protocol','SrcPort','DstPort','SrcPackets','DstPackets','SrcBytes','DstBytes'])\n",
    "#df = pd.DataFrame(data.values, columns = [list(range(11))])\n",
    "rows, columns = df.shape\n",
    "#rows = '%.2E' % Decimal(rows)\n",
    "print(str(millify(rows))+', '+ str(columns))"
   ]
  },
  {
   "cell_type": "code",
   "execution_count": 33,
   "metadata": {
    "ExecuteTime": {
     "end_time": "2019-12-02T16:11:08.836105Z",
     "start_time": "2019-12-02T16:10:17.622163Z"
    }
   },
   "outputs": [],
   "source": [
    "df['SrcPort'].to_hdf('../../data/hdf/SrcPort-netflow_day-05.h5',key='df', mode='w')"
   ]
  },
  {
   "cell_type": "code",
   "execution_count": 53,
   "metadata": {
    "ExecuteTime": {
     "end_time": "2019-12-02T16:35:19.737410Z",
     "start_time": "2019-12-02T16:34:45.241029Z"
    }
   },
   "outputs": [
    {
     "name": "stdout",
     "output_type": "stream",
     "text": [
      "(222323502,)\n"
     ]
    },
    {
     "data": {
      "text/plain": [
       "0    Port46266\n",
       "1    Port77381\n",
       "2    Port67870\n",
       "3    Port49568\n",
       "4    Port49568\n",
       "Name: SrcPort, dtype: object"
      ]
     },
     "execution_count": 53,
     "metadata": {},
     "output_type": "execute_result"
    }
   ],
   "source": [
    "#Series Dataframe\n",
    "df_Src=pd.read_hdf('../../data/hdf/SrcPort-netflow_day-04.h5', 'df')\n",
    "print(df_Src.shape)\n",
    "df_Src.head(5)\n",
    "#print(str(millify(df_Src.shape[0]))+', '+ str(df_Src.shape[1]))"
   ]
  },
  {
   "cell_type": "code",
   "execution_count": 36,
   "metadata": {
    "ExecuteTime": {
     "end_time": "2019-12-02T16:20:25.584880Z",
     "start_time": "2019-12-02T16:20:25.582534Z"
    }
   },
   "outputs": [],
   "source": [
    "hdf = '../../data/hdf'"
   ]
  },
  {
   "cell_type": "code",
   "execution_count": 50,
   "metadata": {
    "ExecuteTime": {
     "end_time": "2019-12-02T16:33:32.217982Z",
     "start_time": "2019-12-02T16:33:32.213246Z"
    }
   },
   "outputs": [
    {
     "name": "stdout",
     "output_type": "stream",
     "text": [
      "../../data/hdf/SrcPort*.h5\n",
      "../../data/hdf\n",
      "<class 'list'>\n",
      "['../../data/hdf/SrcPort-netflow_day-04.h5', '../../data/hdf/SrcPort-netflow_day-05.h5', '../../data/hdf/SrcPort-netflow_day-03.h5']\n"
     ]
    }
   ],
   "source": [
    "print(os.path.join(hdf, 'SrcPort*.h5'))\n",
    "print(hdf)\n",
    "hdfFiles=glob(os.path.join(hdf, 'SrcPort*.h5'))\n",
    "print(type(hdfFiles))\n",
    "print(hdfFiles)"
   ]
  },
  {
   "cell_type": "code",
   "execution_count": null,
   "metadata": {
    "ExecuteTime": {
     "end_time": "2019-12-02T16:28:14.533100Z",
     "start_time": "2019-12-02T16:27:53.574Z"
    }
   },
   "outputs": [],
   "source": [
    "Columns = ['srcIP','dstIP',...]\n",
    "len(allfiles)"
   ]
  },
  {
   "cell_type": "code",
   "execution_count": 56,
   "metadata": {
    "ExecuteTime": {
     "end_time": "2019-12-02T16:42:47.890550Z",
     "start_time": "2019-12-02T16:42:47.881542Z"
    }
   },
   "outputs": [
    {
     "data": {
      "text/plain": [
       "['df']"
      ]
     },
     "execution_count": 56,
     "metadata": {},
     "output_type": "execute_result"
    }
   ],
   "source": [
    "#file objext, acts like python dictionary, thus we can check keys -> there is one dataset 'df'\n",
    "import h5py\n",
    "f = h5py.File('../../data/hdf/SrcPort-netflow_day-04.h5','r')\n",
    "list(f.keys())"
   ]
  },
  {
   "cell_type": "code",
   "execution_count": 57,
   "metadata": {
    "ExecuteTime": {
     "end_time": "2019-12-02T16:45:13.275892Z",
     "start_time": "2019-12-02T16:45:13.230377Z"
    }
   },
   "outputs": [
    {
     "ename": "RuntimeError",
     "evalue": "Error: readhdf: Rank 0 arrays not implemented",
     "output_type": "error",
     "traceback": [
      "\u001b[0;31m---------------------------------------------------------------------------\u001b[0m",
      "\u001b[0;31mRuntimeError\u001b[0m                              Traceback (most recent call last)",
      "\u001b[0;32m<ipython-input-57-76cb093ad085>\u001b[0m in \u001b[0;36m<module>\u001b[0;34m\u001b[0m\n\u001b[0;32m----> 1\u001b[0;31m \u001b[0mdata\u001b[0m \u001b[0;34m=\u001b[0m \u001b[0mak\u001b[0m\u001b[0;34m.\u001b[0m\u001b[0mread_hdf\u001b[0m\u001b[0;34m(\u001b[0m\u001b[0;34m'df'\u001b[0m\u001b[0;34m,\u001b[0m\u001b[0mhdfFiles\u001b[0m\u001b[0;34m)\u001b[0m\u001b[0;34m\u001b[0m\u001b[0m\n\u001b[0m",
      "\u001b[0;32m/Library/Frameworks/Python.framework/Versions/3.6/lib/python3.6/site-packages/arkouda/pdarrayIO.py\u001b[0m in \u001b[0;36mread_hdf\u001b[0;34m(dsetName, filenames)\u001b[0m\n\u001b[1;32m     55\u001b[0m     \u001b[0;32mif\u001b[0m \u001b[0misinstance\u001b[0m\u001b[0;34m(\u001b[0m\u001b[0mfilenames\u001b[0m\u001b[0;34m,\u001b[0m \u001b[0mstr\u001b[0m\u001b[0;34m)\u001b[0m\u001b[0;34m:\u001b[0m\u001b[0;34m\u001b[0m\u001b[0m\n\u001b[1;32m     56\u001b[0m         \u001b[0mfilenames\u001b[0m \u001b[0;34m=\u001b[0m \u001b[0;34m[\u001b[0m\u001b[0mfilenames\u001b[0m\u001b[0;34m]\u001b[0m\u001b[0;34m\u001b[0m\u001b[0m\n\u001b[0;32m---> 57\u001b[0;31m     \u001b[0mrep_msg\u001b[0m \u001b[0;34m=\u001b[0m \u001b[0mgeneric_msg\u001b[0m\u001b[0;34m(\u001b[0m\u001b[0;34m\"readhdf {} {:n} {}\"\u001b[0m\u001b[0;34m.\u001b[0m\u001b[0mformat\u001b[0m\u001b[0;34m(\u001b[0m\u001b[0mdsetName\u001b[0m\u001b[0;34m,\u001b[0m \u001b[0mlen\u001b[0m\u001b[0;34m(\u001b[0m\u001b[0mfilenames\u001b[0m\u001b[0;34m)\u001b[0m\u001b[0;34m,\u001b[0m \u001b[0mjson\u001b[0m\u001b[0;34m.\u001b[0m\u001b[0mdumps\u001b[0m\u001b[0;34m(\u001b[0m\u001b[0mfilenames\u001b[0m\u001b[0;34m)\u001b[0m\u001b[0;34m)\u001b[0m\u001b[0;34m)\u001b[0m\u001b[0;34m\u001b[0m\u001b[0m\n\u001b[0m\u001b[1;32m     58\u001b[0m     \u001b[0;32mreturn\u001b[0m \u001b[0mcreate_pdarray\u001b[0m\u001b[0;34m(\u001b[0m\u001b[0mrep_msg\u001b[0m\u001b[0;34m)\u001b[0m\u001b[0;34m\u001b[0m\u001b[0m\n\u001b[1;32m     59\u001b[0m \u001b[0;34m\u001b[0m\u001b[0m\n",
      "\u001b[0;32m/Library/Frameworks/Python.framework/Versions/3.6/lib/python3.6/site-packages/arkouda/client.py\u001b[0m in \u001b[0;36mgeneric_msg\u001b[0;34m(message, send_bytes, recv_bytes)\u001b[0m\n\u001b[1;32m    120\u001b[0m         \u001b[0;32mif\u001b[0m \u001b[0mverbose\u001b[0m\u001b[0;34m:\u001b[0m \u001b[0mprint\u001b[0m\u001b[0;34m(\u001b[0m\u001b[0;34m\"[Python] Received response: %s\"\u001b[0m \u001b[0;34m%\u001b[0m \u001b[0mmessage\u001b[0m\u001b[0;34m)\u001b[0m\u001b[0;34m\u001b[0m\u001b[0m\n\u001b[1;32m    121\u001b[0m         \u001b[0;31m# raise errors sent back from the server\u001b[0m\u001b[0;34m\u001b[0m\u001b[0;34m\u001b[0m\u001b[0m\n\u001b[0;32m--> 122\u001b[0;31m         \u001b[0;32mif\u001b[0m \u001b[0mmessage\u001b[0m\u001b[0;34m.\u001b[0m\u001b[0mstartswith\u001b[0m\u001b[0;34m(\u001b[0m\u001b[0;34m\"Error:\"\u001b[0m\u001b[0;34m)\u001b[0m\u001b[0;34m:\u001b[0m \u001b[0;32mraise\u001b[0m \u001b[0mRuntimeError\u001b[0m\u001b[0;34m(\u001b[0m\u001b[0mmessage\u001b[0m\u001b[0;34m)\u001b[0m\u001b[0;34m\u001b[0m\u001b[0m\n\u001b[0m\u001b[1;32m    123\u001b[0m         \u001b[0;32melif\u001b[0m \u001b[0mmessage\u001b[0m\u001b[0;34m.\u001b[0m\u001b[0mstartswith\u001b[0m\u001b[0;34m(\u001b[0m\u001b[0;34m\"Warning:\"\u001b[0m\u001b[0;34m)\u001b[0m\u001b[0;34m:\u001b[0m \u001b[0mwarnings\u001b[0m\u001b[0;34m.\u001b[0m\u001b[0mwarn\u001b[0m\u001b[0;34m(\u001b[0m\u001b[0mmessage\u001b[0m\u001b[0;34m)\u001b[0m\u001b[0;34m\u001b[0m\u001b[0m\n\u001b[1;32m    124\u001b[0m     \u001b[0;32mreturn\u001b[0m \u001b[0mmessage\u001b[0m\u001b[0;34m\u001b[0m\u001b[0m\n",
      "\u001b[0;31mRuntimeError\u001b[0m: Error: readhdf: Rank 0 arrays not implemented"
     ]
    }
   ],
   "source": [
    "data = ak.read_hdf('df',hdfFiles)"
   ]
  },
  {
   "cell_type": "code",
   "execution_count": null,
   "metadata": {},
   "outputs": [],
   "source": [
    "nrecords=data['srcIP'].size"
   ]
  },
  {
   "cell_type": "code",
   "execution_count": null,
   "metadata": {},
   "outputs": [],
   "source": []
  }
 ],
 "metadata": {
  "kernelspec": {
   "display_name": "Python 3",
   "language": "python",
   "name": "python3"
  },
  "language_info": {
   "codemirror_mode": {
    "name": "ipython",
    "version": 3
   },
   "file_extension": ".py",
   "mimetype": "text/x-python",
   "name": "python",
   "nbconvert_exporter": "python",
   "pygments_lexer": "ipython3",
   "version": "3.6.3"
  }
 },
 "nbformat": 4,
 "nbformat_minor": 2
}
